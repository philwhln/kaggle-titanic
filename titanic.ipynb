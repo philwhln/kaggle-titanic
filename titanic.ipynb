{
 "cells": [
  {
   "cell_type": "markdown",
   "metadata": {},
   "source": [
    "# Titanic Kaggle Competition\n",
    "\n",
    "This is my first Kaggle competition, analyzing and predicting survival data of passengers on the Titantic.\n",
    "\n",
    "https://www.kaggle.com/c/titanic/"
   ]
  },
  {
   "cell_type": "markdown",
   "metadata": {},
   "source": [
    "## Setup"
   ]
  },
  {
   "cell_type": "code",
   "execution_count": 1,
   "metadata": {},
   "outputs": [],
   "source": [
    "%mkdir -p data\n",
    "%mkdir -p output\n",
    "%mkdir -p runs"
   ]
  },
  {
   "cell_type": "markdown",
   "metadata": {},
   "source": [
    "## Analyze the data"
   ]
  },
  {
   "cell_type": "markdown",
   "metadata": {},
   "source": [
    "#### Load Data"
   ]
  },
  {
   "cell_type": "markdown",
   "metadata": {},
   "source": [
    "Downloaded the data from https://www.kaggle.com/c/titanic/data into `data/`. Two files `train.csv` and `test.csv`."
   ]
  },
  {
   "cell_type": "code",
   "execution_count": 2,
   "metadata": {},
   "outputs": [],
   "source": [
    "import pandas as pd\n",
    "\n",
    "df = pd.read_csv('./data/train.csv')"
   ]
  },
  {
   "cell_type": "markdown",
   "metadata": {},
   "source": [
    "### Overview"
   ]
  },
  {
   "cell_type": "code",
   "execution_count": 3,
   "metadata": {},
   "outputs": [
    {
     "name": "stdout",
     "output_type": "stream",
     "text": [
      "<class 'pandas.core.frame.DataFrame'>\n",
      "RangeIndex: 891 entries, 0 to 890\n",
      "Data columns (total 12 columns):\n",
      " #   Column       Non-Null Count  Dtype  \n",
      "---  ------       --------------  -----  \n",
      " 0   PassengerId  891 non-null    int64  \n",
      " 1   Survived     891 non-null    int64  \n",
      " 2   Pclass       891 non-null    int64  \n",
      " 3   Name         891 non-null    object \n",
      " 4   Sex          891 non-null    object \n",
      " 5   Age          714 non-null    float64\n",
      " 6   SibSp        891 non-null    int64  \n",
      " 7   Parch        891 non-null    int64  \n",
      " 8   Ticket       891 non-null    object \n",
      " 9   Fare         891 non-null    float64\n",
      " 10  Cabin        204 non-null    object \n",
      " 11  Embarked     889 non-null    object \n",
      "dtypes: float64(2), int64(5), object(5)\n",
      "memory usage: 83.7+ KB\n"
     ]
    }
   ],
   "source": [
    "df.info()"
   ]
  },
  {
   "cell_type": "markdown",
   "metadata": {},
   "source": [
    "### Data overview thoughts\n",
    "Of the 891 passengers...\n",
    "* All have non-null info on Survived, Pclass, Sex, SibSp, Parch, Ticket, Fare.\n",
    "* Embarked is only missing 2, so might be worth just dropping those two, if Embarked is useful. Otherwise, dropping the Embarked feature.\n",
    "* Cabin is mostly nulls, so probably not worth using if only available 22% of the time.\n",
    "* Age is probably useful, but 20% are missing that field.\n"
   ]
  },
  {
   "cell_type": "code",
   "execution_count": 4,
   "metadata": {
    "scrolled": true
   },
   "outputs": [
    {
     "data": {
      "text/html": [
       "<div>\n",
       "<style scoped>\n",
       "    .dataframe tbody tr th:only-of-type {\n",
       "        vertical-align: middle;\n",
       "    }\n",
       "\n",
       "    .dataframe tbody tr th {\n",
       "        vertical-align: top;\n",
       "    }\n",
       "\n",
       "    .dataframe thead th {\n",
       "        text-align: right;\n",
       "    }\n",
       "</style>\n",
       "<table border=\"1\" class=\"dataframe\">\n",
       "  <thead>\n",
       "    <tr style=\"text-align: right;\">\n",
       "      <th></th>\n",
       "      <th>PassengerId</th>\n",
       "      <th>Survived</th>\n",
       "      <th>Pclass</th>\n",
       "      <th>Name</th>\n",
       "      <th>Sex</th>\n",
       "      <th>Age</th>\n",
       "      <th>SibSp</th>\n",
       "      <th>Parch</th>\n",
       "      <th>Ticket</th>\n",
       "      <th>Fare</th>\n",
       "      <th>Cabin</th>\n",
       "      <th>Embarked</th>\n",
       "    </tr>\n",
       "  </thead>\n",
       "  <tbody>\n",
       "    <tr>\n",
       "      <th>0</th>\n",
       "      <td>1</td>\n",
       "      <td>0</td>\n",
       "      <td>3</td>\n",
       "      <td>Braund, Mr. Owen Harris</td>\n",
       "      <td>male</td>\n",
       "      <td>22.0</td>\n",
       "      <td>1</td>\n",
       "      <td>0</td>\n",
       "      <td>A/5 21171</td>\n",
       "      <td>7.2500</td>\n",
       "      <td>NaN</td>\n",
       "      <td>S</td>\n",
       "    </tr>\n",
       "    <tr>\n",
       "      <th>1</th>\n",
       "      <td>2</td>\n",
       "      <td>1</td>\n",
       "      <td>1</td>\n",
       "      <td>Cumings, Mrs. John Bradley (Florence Briggs Th...</td>\n",
       "      <td>female</td>\n",
       "      <td>38.0</td>\n",
       "      <td>1</td>\n",
       "      <td>0</td>\n",
       "      <td>PC 17599</td>\n",
       "      <td>71.2833</td>\n",
       "      <td>C85</td>\n",
       "      <td>C</td>\n",
       "    </tr>\n",
       "    <tr>\n",
       "      <th>2</th>\n",
       "      <td>3</td>\n",
       "      <td>1</td>\n",
       "      <td>3</td>\n",
       "      <td>Heikkinen, Miss. Laina</td>\n",
       "      <td>female</td>\n",
       "      <td>26.0</td>\n",
       "      <td>0</td>\n",
       "      <td>0</td>\n",
       "      <td>STON/O2. 3101282</td>\n",
       "      <td>7.9250</td>\n",
       "      <td>NaN</td>\n",
       "      <td>S</td>\n",
       "    </tr>\n",
       "    <tr>\n",
       "      <th>3</th>\n",
       "      <td>4</td>\n",
       "      <td>1</td>\n",
       "      <td>1</td>\n",
       "      <td>Futrelle, Mrs. Jacques Heath (Lily May Peel)</td>\n",
       "      <td>female</td>\n",
       "      <td>35.0</td>\n",
       "      <td>1</td>\n",
       "      <td>0</td>\n",
       "      <td>113803</td>\n",
       "      <td>53.1000</td>\n",
       "      <td>C123</td>\n",
       "      <td>S</td>\n",
       "    </tr>\n",
       "    <tr>\n",
       "      <th>4</th>\n",
       "      <td>5</td>\n",
       "      <td>0</td>\n",
       "      <td>3</td>\n",
       "      <td>Allen, Mr. William Henry</td>\n",
       "      <td>male</td>\n",
       "      <td>35.0</td>\n",
       "      <td>0</td>\n",
       "      <td>0</td>\n",
       "      <td>373450</td>\n",
       "      <td>8.0500</td>\n",
       "      <td>NaN</td>\n",
       "      <td>S</td>\n",
       "    </tr>\n",
       "  </tbody>\n",
       "</table>\n",
       "</div>"
      ],
      "text/plain": [
       "   PassengerId  Survived  Pclass  \\\n",
       "0            1         0       3   \n",
       "1            2         1       1   \n",
       "2            3         1       3   \n",
       "3            4         1       1   \n",
       "4            5         0       3   \n",
       "\n",
       "                                                Name     Sex   Age  SibSp  \\\n",
       "0                            Braund, Mr. Owen Harris    male  22.0      1   \n",
       "1  Cumings, Mrs. John Bradley (Florence Briggs Th...  female  38.0      1   \n",
       "2                             Heikkinen, Miss. Laina  female  26.0      0   \n",
       "3       Futrelle, Mrs. Jacques Heath (Lily May Peel)  female  35.0      1   \n",
       "4                           Allen, Mr. William Henry    male  35.0      0   \n",
       "\n",
       "   Parch            Ticket     Fare Cabin Embarked  \n",
       "0      0         A/5 21171   7.2500   NaN        S  \n",
       "1      0          PC 17599  71.2833   C85        C  \n",
       "2      0  STON/O2. 3101282   7.9250   NaN        S  \n",
       "3      0            113803  53.1000  C123        S  \n",
       "4      0            373450   8.0500   NaN        S  "
      ]
     },
     "execution_count": 4,
     "metadata": {},
     "output_type": "execute_result"
    }
   ],
   "source": [
    "df.head()"
   ]
  },
  {
   "cell_type": "markdown",
   "metadata": {},
   "source": [
    "### Contents initial thoughts\n",
    "* **PClass**. (Ticket Class). Preferential treatment for higher class? Nice simple field to work with.  \n",
    "* **Name**. Unique. Probably is not useful unless there's some bias in race or class that can be derived from the names. That would involve some deep analysis and probably an external dataset to find name embeddings. Although just the length of the name may indicate something.\n",
    "* **SibSp** (Siblings + Spouses onboard). Safety in numbers? Would be interesting to correlate this with Name and see if there's any likely holes here.\n",
    "* **Parch** (Parents + Children onboard). Very similar to SibSp, although from the movies \"women and children first\" would indicate this carriers more weight for adult females than adults males. Not that useful for children, since we already know they are from their Age. It's also difficult to tell if the person is the parent or the child, as even an adult could be the child. More broadly useful for safety in numbers?\n",
    "* **Ticket**. Unique? Probably not usual, if unique, unless it indicates more information on where, when, or how the ticket was purchased that would compliment Class. Or if it gives information that relates to the Cabin.\n",
    "* **Fare**. Relates to the Class. Variability might indicate more granular levels in Class or some preferencial treatment at the time of purchase.\n",
    "* **Embarked** (Port of Embarkation). Again, this may add colour to the background of person that may have played a part. For instance, would someone with a certain accent be treated differently? Would someone from a different region/climate be more apt to surviving?"
   ]
  },
  {
   "cell_type": "markdown",
   "metadata": {},
   "source": [
    "### Missing values"
   ]
  },
  {
   "cell_type": "code",
   "execution_count": 5,
   "metadata": {},
   "outputs": [
    {
     "data": {
      "text/plain": [
       "PassengerId      0\n",
       "Survived         0\n",
       "Pclass           0\n",
       "Name             0\n",
       "Sex              0\n",
       "SibSp            0\n",
       "Parch            0\n",
       "Ticket           0\n",
       "Fare             0\n",
       "Embarked         2\n",
       "Age            177\n",
       "Cabin          687\n",
       "dtype: int64"
      ]
     },
     "execution_count": 5,
     "metadata": {},
     "output_type": "execute_result"
    }
   ],
   "source": [
    "df.isnull().sum().sort_values(ascending=True)"
   ]
  },
  {
   "cell_type": "markdown",
   "metadata": {},
   "source": [
    "#### Null Embarked"
   ]
  },
  {
   "cell_type": "code",
   "execution_count": 6,
   "metadata": {},
   "outputs": [
    {
     "data": {
      "text/html": [
       "<div>\n",
       "<style scoped>\n",
       "    .dataframe tbody tr th:only-of-type {\n",
       "        vertical-align: middle;\n",
       "    }\n",
       "\n",
       "    .dataframe tbody tr th {\n",
       "        vertical-align: top;\n",
       "    }\n",
       "\n",
       "    .dataframe thead th {\n",
       "        text-align: right;\n",
       "    }\n",
       "</style>\n",
       "<table border=\"1\" class=\"dataframe\">\n",
       "  <thead>\n",
       "    <tr style=\"text-align: right;\">\n",
       "      <th></th>\n",
       "      <th>PassengerId</th>\n",
       "      <th>Survived</th>\n",
       "      <th>Pclass</th>\n",
       "      <th>Name</th>\n",
       "      <th>Sex</th>\n",
       "      <th>Age</th>\n",
       "      <th>SibSp</th>\n",
       "      <th>Parch</th>\n",
       "      <th>Ticket</th>\n",
       "      <th>Fare</th>\n",
       "      <th>Cabin</th>\n",
       "      <th>Embarked</th>\n",
       "    </tr>\n",
       "  </thead>\n",
       "  <tbody>\n",
       "    <tr>\n",
       "      <th>61</th>\n",
       "      <td>62</td>\n",
       "      <td>1</td>\n",
       "      <td>1</td>\n",
       "      <td>Icard, Miss. Amelie</td>\n",
       "      <td>female</td>\n",
       "      <td>38.0</td>\n",
       "      <td>0</td>\n",
       "      <td>0</td>\n",
       "      <td>113572</td>\n",
       "      <td>80.0</td>\n",
       "      <td>B28</td>\n",
       "      <td>NaN</td>\n",
       "    </tr>\n",
       "    <tr>\n",
       "      <th>829</th>\n",
       "      <td>830</td>\n",
       "      <td>1</td>\n",
       "      <td>1</td>\n",
       "      <td>Stone, Mrs. George Nelson (Martha Evelyn)</td>\n",
       "      <td>female</td>\n",
       "      <td>62.0</td>\n",
       "      <td>0</td>\n",
       "      <td>0</td>\n",
       "      <td>113572</td>\n",
       "      <td>80.0</td>\n",
       "      <td>B28</td>\n",
       "      <td>NaN</td>\n",
       "    </tr>\n",
       "  </tbody>\n",
       "</table>\n",
       "</div>"
      ],
      "text/plain": [
       "     PassengerId  Survived  Pclass                                       Name  \\\n",
       "61            62         1       1                        Icard, Miss. Amelie   \n",
       "829          830         1       1  Stone, Mrs. George Nelson (Martha Evelyn)   \n",
       "\n",
       "        Sex   Age  SibSp  Parch  Ticket  Fare Cabin Embarked  \n",
       "61   female  38.0      0      0  113572  80.0   B28      NaN  \n",
       "829  female  62.0      0      0  113572  80.0   B28      NaN  "
      ]
     },
     "execution_count": 6,
     "metadata": {},
     "output_type": "execute_result"
    }
   ],
   "source": [
    "df[df.Embarked.isnull()]"
   ]
  },
  {
   "cell_type": "markdown",
   "metadata": {},
   "source": [
    "Both in Cabin B28 and have Fare of 80.0 and same Ticket number. Let's see if we can find similar passengers."
   ]
  },
  {
   "cell_type": "code",
   "execution_count": 7,
   "metadata": {},
   "outputs": [
    {
     "data": {
      "text/html": [
       "<div>\n",
       "<style scoped>\n",
       "    .dataframe tbody tr th:only-of-type {\n",
       "        vertical-align: middle;\n",
       "    }\n",
       "\n",
       "    .dataframe tbody tr th {\n",
       "        vertical-align: top;\n",
       "    }\n",
       "\n",
       "    .dataframe thead th {\n",
       "        text-align: right;\n",
       "    }\n",
       "</style>\n",
       "<table border=\"1\" class=\"dataframe\">\n",
       "  <thead>\n",
       "    <tr style=\"text-align: right;\">\n",
       "      <th></th>\n",
       "      <th>PassengerId</th>\n",
       "      <th>Survived</th>\n",
       "      <th>Pclass</th>\n",
       "      <th>Name</th>\n",
       "      <th>Sex</th>\n",
       "      <th>Age</th>\n",
       "      <th>SibSp</th>\n",
       "      <th>Parch</th>\n",
       "      <th>Ticket</th>\n",
       "      <th>Fare</th>\n",
       "      <th>Cabin</th>\n",
       "      <th>Embarked</th>\n",
       "    </tr>\n",
       "  </thead>\n",
       "  <tbody>\n",
       "    <tr>\n",
       "      <th>61</th>\n",
       "      <td>62</td>\n",
       "      <td>1</td>\n",
       "      <td>1</td>\n",
       "      <td>Icard, Miss. Amelie</td>\n",
       "      <td>female</td>\n",
       "      <td>38.0</td>\n",
       "      <td>0</td>\n",
       "      <td>0</td>\n",
       "      <td>113572</td>\n",
       "      <td>80.0</td>\n",
       "      <td>B28</td>\n",
       "      <td>NaN</td>\n",
       "    </tr>\n",
       "    <tr>\n",
       "      <th>829</th>\n",
       "      <td>830</td>\n",
       "      <td>1</td>\n",
       "      <td>1</td>\n",
       "      <td>Stone, Mrs. George Nelson (Martha Evelyn)</td>\n",
       "      <td>female</td>\n",
       "      <td>62.0</td>\n",
       "      <td>0</td>\n",
       "      <td>0</td>\n",
       "      <td>113572</td>\n",
       "      <td>80.0</td>\n",
       "      <td>B28</td>\n",
       "      <td>NaN</td>\n",
       "    </tr>\n",
       "  </tbody>\n",
       "</table>\n",
       "</div>"
      ],
      "text/plain": [
       "     PassengerId  Survived  Pclass                                       Name  \\\n",
       "61            62         1       1                        Icard, Miss. Amelie   \n",
       "829          830         1       1  Stone, Mrs. George Nelson (Martha Evelyn)   \n",
       "\n",
       "        Sex   Age  SibSp  Parch  Ticket  Fare Cabin Embarked  \n",
       "61   female  38.0      0      0  113572  80.0   B28      NaN  \n",
       "829  female  62.0      0      0  113572  80.0   B28      NaN  "
      ]
     },
     "execution_count": 7,
     "metadata": {},
     "output_type": "execute_result"
    }
   ],
   "source": [
    "df[(df.Ticket == '113572') | (df.Fare == 80.) | (df.Cabin == 'B28') |\n",
    "   df.Name.str.startswith('Icard,') | df.Name.str.startswith('Stone,')]"
   ]
  },
  {
   "cell_type": "code",
   "execution_count": 8,
   "metadata": {},
   "outputs": [
    {
     "data": {
      "text/html": [
       "<div>\n",
       "<style scoped>\n",
       "    .dataframe tbody tr th:only-of-type {\n",
       "        vertical-align: middle;\n",
       "    }\n",
       "\n",
       "    .dataframe tbody tr th {\n",
       "        vertical-align: top;\n",
       "    }\n",
       "\n",
       "    .dataframe thead th {\n",
       "        text-align: right;\n",
       "    }\n",
       "</style>\n",
       "<table border=\"1\" class=\"dataframe\">\n",
       "  <thead>\n",
       "    <tr style=\"text-align: right;\">\n",
       "      <th></th>\n",
       "      <th>PassengerId</th>\n",
       "      <th>Survived</th>\n",
       "      <th>Pclass</th>\n",
       "      <th>Name</th>\n",
       "      <th>Sex</th>\n",
       "      <th>Age</th>\n",
       "      <th>SibSp</th>\n",
       "      <th>Parch</th>\n",
       "      <th>Ticket</th>\n",
       "      <th>Fare</th>\n",
       "      <th>Cabin</th>\n",
       "      <th>Embarked</th>\n",
       "    </tr>\n",
       "  </thead>\n",
       "  <tbody>\n",
       "    <tr>\n",
       "      <th>523</th>\n",
       "      <td>524</td>\n",
       "      <td>1</td>\n",
       "      <td>1</td>\n",
       "      <td>Hippach, Mrs. Louis Albert (Ida Sophia Fischer)</td>\n",
       "      <td>female</td>\n",
       "      <td>44.0</td>\n",
       "      <td>0</td>\n",
       "      <td>1</td>\n",
       "      <td>111361</td>\n",
       "      <td>57.9792</td>\n",
       "      <td>B18</td>\n",
       "      <td>C</td>\n",
       "    </tr>\n",
       "    <tr>\n",
       "      <th>329</th>\n",
       "      <td>330</td>\n",
       "      <td>1</td>\n",
       "      <td>1</td>\n",
       "      <td>Hippach, Miss. Jean Gertrude</td>\n",
       "      <td>female</td>\n",
       "      <td>16.0</td>\n",
       "      <td>0</td>\n",
       "      <td>1</td>\n",
       "      <td>111361</td>\n",
       "      <td>57.9792</td>\n",
       "      <td>B18</td>\n",
       "      <td>C</td>\n",
       "    </tr>\n",
       "    <tr>\n",
       "      <th>781</th>\n",
       "      <td>782</td>\n",
       "      <td>1</td>\n",
       "      <td>1</td>\n",
       "      <td>Dick, Mrs. Albert Adrian (Vera Gillespie)</td>\n",
       "      <td>female</td>\n",
       "      <td>17.0</td>\n",
       "      <td>1</td>\n",
       "      <td>0</td>\n",
       "      <td>17474</td>\n",
       "      <td>57.0000</td>\n",
       "      <td>B20</td>\n",
       "      <td>S</td>\n",
       "    </tr>\n",
       "    <tr>\n",
       "      <th>540</th>\n",
       "      <td>541</td>\n",
       "      <td>1</td>\n",
       "      <td>1</td>\n",
       "      <td>Crosby, Miss. Harriet R</td>\n",
       "      <td>female</td>\n",
       "      <td>36.0</td>\n",
       "      <td>0</td>\n",
       "      <td>2</td>\n",
       "      <td>WE/P 5735</td>\n",
       "      <td>71.0000</td>\n",
       "      <td>B22</td>\n",
       "      <td>S</td>\n",
       "    </tr>\n",
       "    <tr>\n",
       "      <th>829</th>\n",
       "      <td>830</td>\n",
       "      <td>1</td>\n",
       "      <td>1</td>\n",
       "      <td>Stone, Mrs. George Nelson (Martha Evelyn)</td>\n",
       "      <td>female</td>\n",
       "      <td>62.0</td>\n",
       "      <td>0</td>\n",
       "      <td>0</td>\n",
       "      <td>113572</td>\n",
       "      <td>80.0000</td>\n",
       "      <td>B28</td>\n",
       "      <td>NaN</td>\n",
       "    </tr>\n",
       "    <tr>\n",
       "      <th>61</th>\n",
       "      <td>62</td>\n",
       "      <td>1</td>\n",
       "      <td>1</td>\n",
       "      <td>Icard, Miss. Amelie</td>\n",
       "      <td>female</td>\n",
       "      <td>38.0</td>\n",
       "      <td>0</td>\n",
       "      <td>0</td>\n",
       "      <td>113572</td>\n",
       "      <td>80.0000</td>\n",
       "      <td>B28</td>\n",
       "      <td>NaN</td>\n",
       "    </tr>\n",
       "    <tr>\n",
       "      <th>641</th>\n",
       "      <td>642</td>\n",
       "      <td>1</td>\n",
       "      <td>1</td>\n",
       "      <td>Sagesser, Mlle. Emma</td>\n",
       "      <td>female</td>\n",
       "      <td>24.0</td>\n",
       "      <td>0</td>\n",
       "      <td>0</td>\n",
       "      <td>PC 17477</td>\n",
       "      <td>69.3000</td>\n",
       "      <td>B35</td>\n",
       "      <td>C</td>\n",
       "    </tr>\n",
       "    <tr>\n",
       "      <th>369</th>\n",
       "      <td>370</td>\n",
       "      <td>1</td>\n",
       "      <td>1</td>\n",
       "      <td>Aubart, Mme. Leontine Pauline</td>\n",
       "      <td>female</td>\n",
       "      <td>24.0</td>\n",
       "      <td>0</td>\n",
       "      <td>0</td>\n",
       "      <td>PC 17477</td>\n",
       "      <td>69.3000</td>\n",
       "      <td>B35</td>\n",
       "      <td>C</td>\n",
       "    </tr>\n",
       "    <tr>\n",
       "      <th>539</th>\n",
       "      <td>540</td>\n",
       "      <td>1</td>\n",
       "      <td>1</td>\n",
       "      <td>Frolicher, Miss. Hedwig Margaritha</td>\n",
       "      <td>female</td>\n",
       "      <td>22.0</td>\n",
       "      <td>0</td>\n",
       "      <td>2</td>\n",
       "      <td>13568</td>\n",
       "      <td>49.5000</td>\n",
       "      <td>B39</td>\n",
       "      <td>C</td>\n",
       "    </tr>\n",
       "    <tr>\n",
       "      <th>194</th>\n",
       "      <td>195</td>\n",
       "      <td>1</td>\n",
       "      <td>1</td>\n",
       "      <td>Brown, Mrs. James Joseph (Margaret Tobin)</td>\n",
       "      <td>female</td>\n",
       "      <td>44.0</td>\n",
       "      <td>0</td>\n",
       "      <td>0</td>\n",
       "      <td>PC 17610</td>\n",
       "      <td>27.7208</td>\n",
       "      <td>B4</td>\n",
       "      <td>C</td>\n",
       "    </tr>\n",
       "    <tr>\n",
       "      <th>887</th>\n",
       "      <td>888</td>\n",
       "      <td>1</td>\n",
       "      <td>1</td>\n",
       "      <td>Graham, Miss. Margaret Edith</td>\n",
       "      <td>female</td>\n",
       "      <td>19.0</td>\n",
       "      <td>0</td>\n",
       "      <td>0</td>\n",
       "      <td>112053</td>\n",
       "      <td>30.0000</td>\n",
       "      <td>B42</td>\n",
       "      <td>S</td>\n",
       "    </tr>\n",
       "    <tr>\n",
       "      <th>291</th>\n",
       "      <td>292</td>\n",
       "      <td>1</td>\n",
       "      <td>1</td>\n",
       "      <td>Bishop, Mrs. Dickinson H (Helen Walton)</td>\n",
       "      <td>female</td>\n",
       "      <td>19.0</td>\n",
       "      <td>1</td>\n",
       "      <td>0</td>\n",
       "      <td>11967</td>\n",
       "      <td>91.0792</td>\n",
       "      <td>B49</td>\n",
       "      <td>C</td>\n",
       "    </tr>\n",
       "    <tr>\n",
       "      <th>820</th>\n",
       "      <td>821</td>\n",
       "      <td>1</td>\n",
       "      <td>1</td>\n",
       "      <td>Hays, Mrs. Charles Melville (Clara Jennings Gr...</td>\n",
       "      <td>female</td>\n",
       "      <td>52.0</td>\n",
       "      <td>1</td>\n",
       "      <td>1</td>\n",
       "      <td>12749</td>\n",
       "      <td>93.5000</td>\n",
       "      <td>B69</td>\n",
       "      <td>S</td>\n",
       "    </tr>\n",
       "    <tr>\n",
       "      <th>520</th>\n",
       "      <td>521</td>\n",
       "      <td>1</td>\n",
       "      <td>1</td>\n",
       "      <td>Perreault, Miss. Anne</td>\n",
       "      <td>female</td>\n",
       "      <td>30.0</td>\n",
       "      <td>0</td>\n",
       "      <td>0</td>\n",
       "      <td>12749</td>\n",
       "      <td>93.5000</td>\n",
       "      <td>B73</td>\n",
       "      <td>S</td>\n",
       "    </tr>\n",
       "    <tr>\n",
       "      <th>257</th>\n",
       "      <td>258</td>\n",
       "      <td>1</td>\n",
       "      <td>1</td>\n",
       "      <td>Cherry, Miss. Gladys</td>\n",
       "      <td>female</td>\n",
       "      <td>30.0</td>\n",
       "      <td>0</td>\n",
       "      <td>0</td>\n",
       "      <td>110152</td>\n",
       "      <td>86.5000</td>\n",
       "      <td>B77</td>\n",
       "      <td>S</td>\n",
       "    </tr>\n",
       "    <tr>\n",
       "      <th>759</th>\n",
       "      <td>760</td>\n",
       "      <td>1</td>\n",
       "      <td>1</td>\n",
       "      <td>Rothes, the Countess. of (Lucy Noel Martha Dye...</td>\n",
       "      <td>female</td>\n",
       "      <td>33.0</td>\n",
       "      <td>0</td>\n",
       "      <td>0</td>\n",
       "      <td>110152</td>\n",
       "      <td>86.5000</td>\n",
       "      <td>B77</td>\n",
       "      <td>S</td>\n",
       "    </tr>\n",
       "    <tr>\n",
       "      <th>504</th>\n",
       "      <td>505</td>\n",
       "      <td>1</td>\n",
       "      <td>1</td>\n",
       "      <td>Maioni, Miss. Roberta</td>\n",
       "      <td>female</td>\n",
       "      <td>16.0</td>\n",
       "      <td>0</td>\n",
       "      <td>0</td>\n",
       "      <td>110152</td>\n",
       "      <td>86.5000</td>\n",
       "      <td>B79</td>\n",
       "      <td>S</td>\n",
       "    </tr>\n",
       "  </tbody>\n",
       "</table>\n",
       "</div>"
      ],
      "text/plain": [
       "     PassengerId  Survived  Pclass  \\\n",
       "523          524         1       1   \n",
       "329          330         1       1   \n",
       "781          782         1       1   \n",
       "540          541         1       1   \n",
       "829          830         1       1   \n",
       "61            62         1       1   \n",
       "641          642         1       1   \n",
       "369          370         1       1   \n",
       "539          540         1       1   \n",
       "194          195         1       1   \n",
       "887          888         1       1   \n",
       "291          292         1       1   \n",
       "820          821         1       1   \n",
       "520          521         1       1   \n",
       "257          258         1       1   \n",
       "759          760         1       1   \n",
       "504          505         1       1   \n",
       "\n",
       "                                                  Name     Sex   Age  SibSp  \\\n",
       "523    Hippach, Mrs. Louis Albert (Ida Sophia Fischer)  female  44.0      0   \n",
       "329                       Hippach, Miss. Jean Gertrude  female  16.0      0   \n",
       "781          Dick, Mrs. Albert Adrian (Vera Gillespie)  female  17.0      1   \n",
       "540                            Crosby, Miss. Harriet R  female  36.0      0   \n",
       "829          Stone, Mrs. George Nelson (Martha Evelyn)  female  62.0      0   \n",
       "61                                 Icard, Miss. Amelie  female  38.0      0   \n",
       "641                               Sagesser, Mlle. Emma  female  24.0      0   \n",
       "369                      Aubart, Mme. Leontine Pauline  female  24.0      0   \n",
       "539                 Frolicher, Miss. Hedwig Margaritha  female  22.0      0   \n",
       "194          Brown, Mrs. James Joseph (Margaret Tobin)  female  44.0      0   \n",
       "887                       Graham, Miss. Margaret Edith  female  19.0      0   \n",
       "291            Bishop, Mrs. Dickinson H (Helen Walton)  female  19.0      1   \n",
       "820  Hays, Mrs. Charles Melville (Clara Jennings Gr...  female  52.0      1   \n",
       "520                              Perreault, Miss. Anne  female  30.0      0   \n",
       "257                               Cherry, Miss. Gladys  female  30.0      0   \n",
       "759  Rothes, the Countess. of (Lucy Noel Martha Dye...  female  33.0      0   \n",
       "504                              Maioni, Miss. Roberta  female  16.0      0   \n",
       "\n",
       "     Parch     Ticket     Fare Cabin Embarked  \n",
       "523      1     111361  57.9792   B18        C  \n",
       "329      1     111361  57.9792   B18        C  \n",
       "781      0      17474  57.0000   B20        S  \n",
       "540      2  WE/P 5735  71.0000   B22        S  \n",
       "829      0     113572  80.0000   B28      NaN  \n",
       "61       0     113572  80.0000   B28      NaN  \n",
       "641      0   PC 17477  69.3000   B35        C  \n",
       "369      0   PC 17477  69.3000   B35        C  \n",
       "539      2      13568  49.5000   B39        C  \n",
       "194      0   PC 17610  27.7208    B4        C  \n",
       "887      0     112053  30.0000   B42        S  \n",
       "291      0      11967  91.0792   B49        C  \n",
       "820      1      12749  93.5000   B69        S  \n",
       "520      0      12749  93.5000   B73        S  \n",
       "257      0     110152  86.5000   B77        S  \n",
       "759      0     110152  86.5000   B77        S  \n",
       "504      0     110152  86.5000   B79        S  "
      ]
     },
     "execution_count": 8,
     "metadata": {},
     "output_type": "execute_result"
    }
   ],
   "source": [
    "df[df.Cabin.notnull() & df.Cabin.str.startswith('B') & (df.Sex == 'female') & (df.Fare < 100.)] \\\n",
    "    .sort_values(by='Cabin')"
   ]
  },
  {
   "cell_type": "markdown",
   "metadata": {},
   "source": [
    "It's hard to tell from the above, whether they're more likely Embarked=S or Embarked=C, but all of these similar women survived, so I think it will have little baring, as long as we choose one of them."
   ]
  },
  {
   "cell_type": "code",
   "execution_count": 9,
   "metadata": {},
   "outputs": [
    {
     "data": {
      "text/plain": [
       "count       891\n",
       "unique        1\n",
       "top       False\n",
       "freq        891\n",
       "Name: Embarked, dtype: object"
      ]
     },
     "execution_count": 9,
     "metadata": {},
     "output_type": "execute_result"
    }
   ],
   "source": [
    "df.loc[df.Embarked.isnull(), 'Embarked'] = 'C'\n",
    "df.Embarked.isnull().describe()"
   ]
  },
  {
   "cell_type": "markdown",
   "metadata": {},
   "source": [
    "#### Null Age\n",
    "\n",
    "Determine if there's any honorifics we can use to fill in missing ages"
   ]
  },
  {
   "cell_type": "code",
   "execution_count": 10,
   "metadata": {
    "scrolled": true
   },
   "outputs": [
    {
     "data": {
      "text/plain": [
       "array(['Mr.', 'Mrs.', 'Miss.', 'Master.', 'Dr.'], dtype=object)"
      ]
     },
     "execution_count": 10,
     "metadata": {},
     "output_type": "execute_result"
    }
   ],
   "source": [
    "df.loc[df.Name.str.contains(r'\\b\\w+\\.') & df.Age.isnull()] \\\n",
    "    .Name.str.replace(r'.*(\\b\\w+\\.).*', lambda m: m.group(1), regex=True) \\\n",
    "    .unique()"
   ]
  },
  {
   "cell_type": "code",
   "execution_count": 11,
   "metadata": {},
   "outputs": [
    {
     "data": {
      "text/plain": [
       "1"
      ]
     },
     "execution_count": 11,
     "metadata": {},
     "output_type": "execute_result"
    }
   ],
   "source": [
    "df.loc[df.Name.str.contains(r'\\bDr\\b') & df.Age.isnull()].Name.count()"
   ]
  },
  {
   "cell_type": "code",
   "execution_count": 12,
   "metadata": {
    "scrolled": true
   },
   "outputs": [
    {
     "data": {
      "text/plain": [
       "4"
      ]
     },
     "execution_count": 12,
     "metadata": {},
     "output_type": "execute_result"
    }
   ],
   "source": [
    "df.loc[df.Name.str.contains(r'\\bMaster\\b') & df.Age.isnull()].Name.count()"
   ]
  },
  {
   "cell_type": "code",
   "execution_count": 13,
   "metadata": {},
   "outputs": [
    {
     "data": {
      "text/plain": [
       "36"
      ]
     },
     "execution_count": 13,
     "metadata": {},
     "output_type": "execute_result"
    }
   ],
   "source": [
    "df.loc[df.Name.str.contains(r'\\bMiss\\b') & df.Age.isnull()].Name.count()"
   ]
  },
  {
   "cell_type": "code",
   "execution_count": 14,
   "metadata": {
    "scrolled": true
   },
   "outputs": [
    {
     "data": {
      "text/plain": [
       "119"
      ]
     },
     "execution_count": 14,
     "metadata": {},
     "output_type": "execute_result"
    }
   ],
   "source": [
    "df.loc[df.Name.str.contains(r'\\bMr\\b') & df.Age.isnull()].Name.count()"
   ]
  },
  {
   "cell_type": "code",
   "execution_count": 15,
   "metadata": {},
   "outputs": [
    {
     "data": {
      "text/plain": [
       "17"
      ]
     },
     "execution_count": 15,
     "metadata": {},
     "output_type": "execute_result"
    }
   ],
   "source": [
    "df.loc[df.Name.str.contains(r'\\bMrs\\b') & df.Age.isnull()].Name.count()"
   ]
  },
  {
   "cell_type": "markdown",
   "metadata": {},
   "source": [
    "That covers all the missing items in the training. We'll give them a roughly appropriate age. `Miss` is a little tricky, so let's look at those a bit closer."
   ]
  },
  {
   "cell_type": "code",
   "execution_count": 16,
   "metadata": {},
   "outputs": [
    {
     "data": {
      "text/html": [
       "<div>\n",
       "<style scoped>\n",
       "    .dataframe tbody tr th:only-of-type {\n",
       "        vertical-align: middle;\n",
       "    }\n",
       "\n",
       "    .dataframe tbody tr th {\n",
       "        vertical-align: top;\n",
       "    }\n",
       "\n",
       "    .dataframe thead th {\n",
       "        text-align: right;\n",
       "    }\n",
       "</style>\n",
       "<table border=\"1\" class=\"dataframe\">\n",
       "  <thead>\n",
       "    <tr style=\"text-align: right;\">\n",
       "      <th></th>\n",
       "      <th>PassengerId</th>\n",
       "      <th>Survived</th>\n",
       "      <th>Pclass</th>\n",
       "      <th>Name</th>\n",
       "      <th>Sex</th>\n",
       "      <th>Age</th>\n",
       "      <th>SibSp</th>\n",
       "      <th>Parch</th>\n",
       "      <th>Ticket</th>\n",
       "      <th>Fare</th>\n",
       "      <th>Cabin</th>\n",
       "      <th>Embarked</th>\n",
       "    </tr>\n",
       "  </thead>\n",
       "  <tbody>\n",
       "    <tr>\n",
       "      <th>28</th>\n",
       "      <td>29</td>\n",
       "      <td>1</td>\n",
       "      <td>3</td>\n",
       "      <td>O'Dwyer, Miss. Ellen \"Nellie\"</td>\n",
       "      <td>female</td>\n",
       "      <td>NaN</td>\n",
       "      <td>0</td>\n",
       "      <td>0</td>\n",
       "      <td>330959</td>\n",
       "      <td>7.8792</td>\n",
       "      <td>NaN</td>\n",
       "      <td>Q</td>\n",
       "    </tr>\n",
       "    <tr>\n",
       "      <th>32</th>\n",
       "      <td>33</td>\n",
       "      <td>1</td>\n",
       "      <td>3</td>\n",
       "      <td>Glynn, Miss. Mary Agatha</td>\n",
       "      <td>female</td>\n",
       "      <td>NaN</td>\n",
       "      <td>0</td>\n",
       "      <td>0</td>\n",
       "      <td>335677</td>\n",
       "      <td>7.7500</td>\n",
       "      <td>NaN</td>\n",
       "      <td>Q</td>\n",
       "    </tr>\n",
       "    <tr>\n",
       "      <th>47</th>\n",
       "      <td>48</td>\n",
       "      <td>1</td>\n",
       "      <td>3</td>\n",
       "      <td>O'Driscoll, Miss. Bridget</td>\n",
       "      <td>female</td>\n",
       "      <td>NaN</td>\n",
       "      <td>0</td>\n",
       "      <td>0</td>\n",
       "      <td>14311</td>\n",
       "      <td>7.7500</td>\n",
       "      <td>NaN</td>\n",
       "      <td>Q</td>\n",
       "    </tr>\n",
       "    <tr>\n",
       "      <th>82</th>\n",
       "      <td>83</td>\n",
       "      <td>1</td>\n",
       "      <td>3</td>\n",
       "      <td>McDermott, Miss. Brigdet Delia</td>\n",
       "      <td>female</td>\n",
       "      <td>NaN</td>\n",
       "      <td>0</td>\n",
       "      <td>0</td>\n",
       "      <td>330932</td>\n",
       "      <td>7.7875</td>\n",
       "      <td>NaN</td>\n",
       "      <td>Q</td>\n",
       "    </tr>\n",
       "    <tr>\n",
       "      <th>109</th>\n",
       "      <td>110</td>\n",
       "      <td>1</td>\n",
       "      <td>3</td>\n",
       "      <td>Moran, Miss. Bertha</td>\n",
       "      <td>female</td>\n",
       "      <td>NaN</td>\n",
       "      <td>1</td>\n",
       "      <td>0</td>\n",
       "      <td>371110</td>\n",
       "      <td>24.1500</td>\n",
       "      <td>NaN</td>\n",
       "      <td>Q</td>\n",
       "    </tr>\n",
       "    <tr>\n",
       "      <th>128</th>\n",
       "      <td>129</td>\n",
       "      <td>1</td>\n",
       "      <td>3</td>\n",
       "      <td>Peter, Miss. Anna</td>\n",
       "      <td>female</td>\n",
       "      <td>NaN</td>\n",
       "      <td>1</td>\n",
       "      <td>1</td>\n",
       "      <td>2668</td>\n",
       "      <td>22.3583</td>\n",
       "      <td>F E69</td>\n",
       "      <td>C</td>\n",
       "    </tr>\n",
       "    <tr>\n",
       "      <th>180</th>\n",
       "      <td>181</td>\n",
       "      <td>0</td>\n",
       "      <td>3</td>\n",
       "      <td>Sage, Miss. Constance Gladys</td>\n",
       "      <td>female</td>\n",
       "      <td>NaN</td>\n",
       "      <td>8</td>\n",
       "      <td>2</td>\n",
       "      <td>CA. 2343</td>\n",
       "      <td>69.5500</td>\n",
       "      <td>NaN</td>\n",
       "      <td>S</td>\n",
       "    </tr>\n",
       "    <tr>\n",
       "      <th>198</th>\n",
       "      <td>199</td>\n",
       "      <td>1</td>\n",
       "      <td>3</td>\n",
       "      <td>Madigan, Miss. Margaret \"Maggie\"</td>\n",
       "      <td>female</td>\n",
       "      <td>NaN</td>\n",
       "      <td>0</td>\n",
       "      <td>0</td>\n",
       "      <td>370370</td>\n",
       "      <td>7.7500</td>\n",
       "      <td>NaN</td>\n",
       "      <td>Q</td>\n",
       "    </tr>\n",
       "    <tr>\n",
       "      <th>229</th>\n",
       "      <td>230</td>\n",
       "      <td>0</td>\n",
       "      <td>3</td>\n",
       "      <td>Lefebre, Miss. Mathilde</td>\n",
       "      <td>female</td>\n",
       "      <td>NaN</td>\n",
       "      <td>3</td>\n",
       "      <td>1</td>\n",
       "      <td>4133</td>\n",
       "      <td>25.4667</td>\n",
       "      <td>NaN</td>\n",
       "      <td>S</td>\n",
       "    </tr>\n",
       "    <tr>\n",
       "      <th>235</th>\n",
       "      <td>236</td>\n",
       "      <td>0</td>\n",
       "      <td>3</td>\n",
       "      <td>Harknett, Miss. Alice Phoebe</td>\n",
       "      <td>female</td>\n",
       "      <td>NaN</td>\n",
       "      <td>0</td>\n",
       "      <td>0</td>\n",
       "      <td>W./C. 6609</td>\n",
       "      <td>7.5500</td>\n",
       "      <td>NaN</td>\n",
       "      <td>S</td>\n",
       "    </tr>\n",
       "    <tr>\n",
       "      <th>240</th>\n",
       "      <td>241</td>\n",
       "      <td>0</td>\n",
       "      <td>3</td>\n",
       "      <td>Zabour, Miss. Thamine</td>\n",
       "      <td>female</td>\n",
       "      <td>NaN</td>\n",
       "      <td>1</td>\n",
       "      <td>0</td>\n",
       "      <td>2665</td>\n",
       "      <td>14.4542</td>\n",
       "      <td>NaN</td>\n",
       "      <td>C</td>\n",
       "    </tr>\n",
       "    <tr>\n",
       "      <th>241</th>\n",
       "      <td>242</td>\n",
       "      <td>1</td>\n",
       "      <td>3</td>\n",
       "      <td>Murphy, Miss. Katherine \"Kate\"</td>\n",
       "      <td>female</td>\n",
       "      <td>NaN</td>\n",
       "      <td>1</td>\n",
       "      <td>0</td>\n",
       "      <td>367230</td>\n",
       "      <td>15.5000</td>\n",
       "      <td>NaN</td>\n",
       "      <td>Q</td>\n",
       "    </tr>\n",
       "    <tr>\n",
       "      <th>264</th>\n",
       "      <td>265</td>\n",
       "      <td>0</td>\n",
       "      <td>3</td>\n",
       "      <td>Henry, Miss. Delia</td>\n",
       "      <td>female</td>\n",
       "      <td>NaN</td>\n",
       "      <td>0</td>\n",
       "      <td>0</td>\n",
       "      <td>382649</td>\n",
       "      <td>7.7500</td>\n",
       "      <td>NaN</td>\n",
       "      <td>Q</td>\n",
       "    </tr>\n",
       "    <tr>\n",
       "      <th>274</th>\n",
       "      <td>275</td>\n",
       "      <td>1</td>\n",
       "      <td>3</td>\n",
       "      <td>Healy, Miss. Hanora \"Nora\"</td>\n",
       "      <td>female</td>\n",
       "      <td>NaN</td>\n",
       "      <td>0</td>\n",
       "      <td>0</td>\n",
       "      <td>370375</td>\n",
       "      <td>7.7500</td>\n",
       "      <td>NaN</td>\n",
       "      <td>Q</td>\n",
       "    </tr>\n",
       "    <tr>\n",
       "      <th>300</th>\n",
       "      <td>301</td>\n",
       "      <td>1</td>\n",
       "      <td>3</td>\n",
       "      <td>Kelly, Miss. Anna Katherine \"Annie Kate\"</td>\n",
       "      <td>female</td>\n",
       "      <td>NaN</td>\n",
       "      <td>0</td>\n",
       "      <td>0</td>\n",
       "      <td>9234</td>\n",
       "      <td>7.7500</td>\n",
       "      <td>NaN</td>\n",
       "      <td>Q</td>\n",
       "    </tr>\n",
       "    <tr>\n",
       "      <th>303</th>\n",
       "      <td>304</td>\n",
       "      <td>1</td>\n",
       "      <td>2</td>\n",
       "      <td>Keane, Miss. Nora A</td>\n",
       "      <td>female</td>\n",
       "      <td>NaN</td>\n",
       "      <td>0</td>\n",
       "      <td>0</td>\n",
       "      <td>226593</td>\n",
       "      <td>12.3500</td>\n",
       "      <td>E101</td>\n",
       "      <td>Q</td>\n",
       "    </tr>\n",
       "    <tr>\n",
       "      <th>306</th>\n",
       "      <td>307</td>\n",
       "      <td>1</td>\n",
       "      <td>1</td>\n",
       "      <td>Fleming, Miss. Margaret</td>\n",
       "      <td>female</td>\n",
       "      <td>NaN</td>\n",
       "      <td>0</td>\n",
       "      <td>0</td>\n",
       "      <td>17421</td>\n",
       "      <td>110.8833</td>\n",
       "      <td>NaN</td>\n",
       "      <td>C</td>\n",
       "    </tr>\n",
       "    <tr>\n",
       "      <th>330</th>\n",
       "      <td>331</td>\n",
       "      <td>1</td>\n",
       "      <td>3</td>\n",
       "      <td>McCoy, Miss. Agnes</td>\n",
       "      <td>female</td>\n",
       "      <td>NaN</td>\n",
       "      <td>2</td>\n",
       "      <td>0</td>\n",
       "      <td>367226</td>\n",
       "      <td>23.2500</td>\n",
       "      <td>NaN</td>\n",
       "      <td>Q</td>\n",
       "    </tr>\n",
       "    <tr>\n",
       "      <th>358</th>\n",
       "      <td>359</td>\n",
       "      <td>1</td>\n",
       "      <td>3</td>\n",
       "      <td>McGovern, Miss. Mary</td>\n",
       "      <td>female</td>\n",
       "      <td>NaN</td>\n",
       "      <td>0</td>\n",
       "      <td>0</td>\n",
       "      <td>330931</td>\n",
       "      <td>7.8792</td>\n",
       "      <td>NaN</td>\n",
       "      <td>Q</td>\n",
       "    </tr>\n",
       "    <tr>\n",
       "      <th>359</th>\n",
       "      <td>360</td>\n",
       "      <td>1</td>\n",
       "      <td>3</td>\n",
       "      <td>Mockler, Miss. Helen Mary \"Ellie\"</td>\n",
       "      <td>female</td>\n",
       "      <td>NaN</td>\n",
       "      <td>0</td>\n",
       "      <td>0</td>\n",
       "      <td>330980</td>\n",
       "      <td>7.8792</td>\n",
       "      <td>NaN</td>\n",
       "      <td>Q</td>\n",
       "    </tr>\n",
       "    <tr>\n",
       "      <th>368</th>\n",
       "      <td>369</td>\n",
       "      <td>1</td>\n",
       "      <td>3</td>\n",
       "      <td>Jermyn, Miss. Annie</td>\n",
       "      <td>female</td>\n",
       "      <td>NaN</td>\n",
       "      <td>0</td>\n",
       "      <td>0</td>\n",
       "      <td>14313</td>\n",
       "      <td>7.7500</td>\n",
       "      <td>NaN</td>\n",
       "      <td>Q</td>\n",
       "    </tr>\n",
       "    <tr>\n",
       "      <th>409</th>\n",
       "      <td>410</td>\n",
       "      <td>0</td>\n",
       "      <td>3</td>\n",
       "      <td>Lefebre, Miss. Ida</td>\n",
       "      <td>female</td>\n",
       "      <td>NaN</td>\n",
       "      <td>3</td>\n",
       "      <td>1</td>\n",
       "      <td>4133</td>\n",
       "      <td>25.4667</td>\n",
       "      <td>NaN</td>\n",
       "      <td>S</td>\n",
       "    </tr>\n",
       "    <tr>\n",
       "      <th>485</th>\n",
       "      <td>486</td>\n",
       "      <td>0</td>\n",
       "      <td>3</td>\n",
       "      <td>Lefebre, Miss. Jeannie</td>\n",
       "      <td>female</td>\n",
       "      <td>NaN</td>\n",
       "      <td>3</td>\n",
       "      <td>1</td>\n",
       "      <td>4133</td>\n",
       "      <td>25.4667</td>\n",
       "      <td>NaN</td>\n",
       "      <td>S</td>\n",
       "    </tr>\n",
       "    <tr>\n",
       "      <th>502</th>\n",
       "      <td>503</td>\n",
       "      <td>0</td>\n",
       "      <td>3</td>\n",
       "      <td>O'Sullivan, Miss. Bridget Mary</td>\n",
       "      <td>female</td>\n",
       "      <td>NaN</td>\n",
       "      <td>0</td>\n",
       "      <td>0</td>\n",
       "      <td>330909</td>\n",
       "      <td>7.6292</td>\n",
       "      <td>NaN</td>\n",
       "      <td>Q</td>\n",
       "    </tr>\n",
       "    <tr>\n",
       "      <th>564</th>\n",
       "      <td>565</td>\n",
       "      <td>0</td>\n",
       "      <td>3</td>\n",
       "      <td>Meanwell, Miss. (Marion Ogden)</td>\n",
       "      <td>female</td>\n",
       "      <td>NaN</td>\n",
       "      <td>0</td>\n",
       "      <td>0</td>\n",
       "      <td>SOTON/O.Q. 392087</td>\n",
       "      <td>8.0500</td>\n",
       "      <td>NaN</td>\n",
       "      <td>S</td>\n",
       "    </tr>\n",
       "    <tr>\n",
       "      <th>573</th>\n",
       "      <td>574</td>\n",
       "      <td>1</td>\n",
       "      <td>3</td>\n",
       "      <td>Kelly, Miss. Mary</td>\n",
       "      <td>female</td>\n",
       "      <td>NaN</td>\n",
       "      <td>0</td>\n",
       "      <td>0</td>\n",
       "      <td>14312</td>\n",
       "      <td>7.7500</td>\n",
       "      <td>NaN</td>\n",
       "      <td>Q</td>\n",
       "    </tr>\n",
       "    <tr>\n",
       "      <th>593</th>\n",
       "      <td>594</td>\n",
       "      <td>0</td>\n",
       "      <td>3</td>\n",
       "      <td>Bourke, Miss. Mary</td>\n",
       "      <td>female</td>\n",
       "      <td>NaN</td>\n",
       "      <td>0</td>\n",
       "      <td>2</td>\n",
       "      <td>364848</td>\n",
       "      <td>7.7500</td>\n",
       "      <td>NaN</td>\n",
       "      <td>Q</td>\n",
       "    </tr>\n",
       "    <tr>\n",
       "      <th>596</th>\n",
       "      <td>597</td>\n",
       "      <td>1</td>\n",
       "      <td>2</td>\n",
       "      <td>Leitch, Miss. Jessie Wills</td>\n",
       "      <td>female</td>\n",
       "      <td>NaN</td>\n",
       "      <td>0</td>\n",
       "      <td>0</td>\n",
       "      <td>248727</td>\n",
       "      <td>33.0000</td>\n",
       "      <td>NaN</td>\n",
       "      <td>S</td>\n",
       "    </tr>\n",
       "    <tr>\n",
       "      <th>612</th>\n",
       "      <td>613</td>\n",
       "      <td>1</td>\n",
       "      <td>3</td>\n",
       "      <td>Murphy, Miss. Margaret Jane</td>\n",
       "      <td>female</td>\n",
       "      <td>NaN</td>\n",
       "      <td>1</td>\n",
       "      <td>0</td>\n",
       "      <td>367230</td>\n",
       "      <td>15.5000</td>\n",
       "      <td>NaN</td>\n",
       "      <td>Q</td>\n",
       "    </tr>\n",
       "    <tr>\n",
       "      <th>653</th>\n",
       "      <td>654</td>\n",
       "      <td>1</td>\n",
       "      <td>3</td>\n",
       "      <td>O'Leary, Miss. Hanora \"Norah\"</td>\n",
       "      <td>female</td>\n",
       "      <td>NaN</td>\n",
       "      <td>0</td>\n",
       "      <td>0</td>\n",
       "      <td>330919</td>\n",
       "      <td>7.8292</td>\n",
       "      <td>NaN</td>\n",
       "      <td>Q</td>\n",
       "    </tr>\n",
       "    <tr>\n",
       "      <th>680</th>\n",
       "      <td>681</td>\n",
       "      <td>0</td>\n",
       "      <td>3</td>\n",
       "      <td>Peters, Miss. Katie</td>\n",
       "      <td>female</td>\n",
       "      <td>NaN</td>\n",
       "      <td>0</td>\n",
       "      <td>0</td>\n",
       "      <td>330935</td>\n",
       "      <td>8.1375</td>\n",
       "      <td>NaN</td>\n",
       "      <td>Q</td>\n",
       "    </tr>\n",
       "    <tr>\n",
       "      <th>697</th>\n",
       "      <td>698</td>\n",
       "      <td>1</td>\n",
       "      <td>3</td>\n",
       "      <td>Mullens, Miss. Katherine \"Katie\"</td>\n",
       "      <td>female</td>\n",
       "      <td>NaN</td>\n",
       "      <td>0</td>\n",
       "      <td>0</td>\n",
       "      <td>35852</td>\n",
       "      <td>7.7333</td>\n",
       "      <td>NaN</td>\n",
       "      <td>Q</td>\n",
       "    </tr>\n",
       "    <tr>\n",
       "      <th>727</th>\n",
       "      <td>728</td>\n",
       "      <td>1</td>\n",
       "      <td>3</td>\n",
       "      <td>Mannion, Miss. Margareth</td>\n",
       "      <td>female</td>\n",
       "      <td>NaN</td>\n",
       "      <td>0</td>\n",
       "      <td>0</td>\n",
       "      <td>36866</td>\n",
       "      <td>7.7375</td>\n",
       "      <td>NaN</td>\n",
       "      <td>Q</td>\n",
       "    </tr>\n",
       "    <tr>\n",
       "      <th>792</th>\n",
       "      <td>793</td>\n",
       "      <td>0</td>\n",
       "      <td>3</td>\n",
       "      <td>Sage, Miss. Stella Anna</td>\n",
       "      <td>female</td>\n",
       "      <td>NaN</td>\n",
       "      <td>8</td>\n",
       "      <td>2</td>\n",
       "      <td>CA. 2343</td>\n",
       "      <td>69.5500</td>\n",
       "      <td>NaN</td>\n",
       "      <td>S</td>\n",
       "    </tr>\n",
       "    <tr>\n",
       "      <th>863</th>\n",
       "      <td>864</td>\n",
       "      <td>0</td>\n",
       "      <td>3</td>\n",
       "      <td>Sage, Miss. Dorothy Edith \"Dolly\"</td>\n",
       "      <td>female</td>\n",
       "      <td>NaN</td>\n",
       "      <td>8</td>\n",
       "      <td>2</td>\n",
       "      <td>CA. 2343</td>\n",
       "      <td>69.5500</td>\n",
       "      <td>NaN</td>\n",
       "      <td>S</td>\n",
       "    </tr>\n",
       "    <tr>\n",
       "      <th>888</th>\n",
       "      <td>889</td>\n",
       "      <td>0</td>\n",
       "      <td>3</td>\n",
       "      <td>Johnston, Miss. Catherine Helen \"Carrie\"</td>\n",
       "      <td>female</td>\n",
       "      <td>NaN</td>\n",
       "      <td>1</td>\n",
       "      <td>2</td>\n",
       "      <td>W./C. 6607</td>\n",
       "      <td>23.4500</td>\n",
       "      <td>NaN</td>\n",
       "      <td>S</td>\n",
       "    </tr>\n",
       "  </tbody>\n",
       "</table>\n",
       "</div>"
      ],
      "text/plain": [
       "     PassengerId  Survived  Pclass                                      Name  \\\n",
       "28            29         1       3             O'Dwyer, Miss. Ellen \"Nellie\"   \n",
       "32            33         1       3                  Glynn, Miss. Mary Agatha   \n",
       "47            48         1       3                 O'Driscoll, Miss. Bridget   \n",
       "82            83         1       3            McDermott, Miss. Brigdet Delia   \n",
       "109          110         1       3                       Moran, Miss. Bertha   \n",
       "128          129         1       3                         Peter, Miss. Anna   \n",
       "180          181         0       3              Sage, Miss. Constance Gladys   \n",
       "198          199         1       3          Madigan, Miss. Margaret \"Maggie\"   \n",
       "229          230         0       3                   Lefebre, Miss. Mathilde   \n",
       "235          236         0       3              Harknett, Miss. Alice Phoebe   \n",
       "240          241         0       3                     Zabour, Miss. Thamine   \n",
       "241          242         1       3            Murphy, Miss. Katherine \"Kate\"   \n",
       "264          265         0       3                        Henry, Miss. Delia   \n",
       "274          275         1       3                Healy, Miss. Hanora \"Nora\"   \n",
       "300          301         1       3  Kelly, Miss. Anna Katherine \"Annie Kate\"   \n",
       "303          304         1       2                       Keane, Miss. Nora A   \n",
       "306          307         1       1                   Fleming, Miss. Margaret   \n",
       "330          331         1       3                        McCoy, Miss. Agnes   \n",
       "358          359         1       3                      McGovern, Miss. Mary   \n",
       "359          360         1       3         Mockler, Miss. Helen Mary \"Ellie\"   \n",
       "368          369         1       3                       Jermyn, Miss. Annie   \n",
       "409          410         0       3                        Lefebre, Miss. Ida   \n",
       "485          486         0       3                    Lefebre, Miss. Jeannie   \n",
       "502          503         0       3            O'Sullivan, Miss. Bridget Mary   \n",
       "564          565         0       3            Meanwell, Miss. (Marion Ogden)   \n",
       "573          574         1       3                         Kelly, Miss. Mary   \n",
       "593          594         0       3                        Bourke, Miss. Mary   \n",
       "596          597         1       2                Leitch, Miss. Jessie Wills   \n",
       "612          613         1       3               Murphy, Miss. Margaret Jane   \n",
       "653          654         1       3             O'Leary, Miss. Hanora \"Norah\"   \n",
       "680          681         0       3                       Peters, Miss. Katie   \n",
       "697          698         1       3          Mullens, Miss. Katherine \"Katie\"   \n",
       "727          728         1       3                  Mannion, Miss. Margareth   \n",
       "792          793         0       3                   Sage, Miss. Stella Anna   \n",
       "863          864         0       3         Sage, Miss. Dorothy Edith \"Dolly\"   \n",
       "888          889         0       3  Johnston, Miss. Catherine Helen \"Carrie\"   \n",
       "\n",
       "        Sex  Age  SibSp  Parch             Ticket      Fare  Cabin Embarked  \n",
       "28   female  NaN      0      0             330959    7.8792    NaN        Q  \n",
       "32   female  NaN      0      0             335677    7.7500    NaN        Q  \n",
       "47   female  NaN      0      0              14311    7.7500    NaN        Q  \n",
       "82   female  NaN      0      0             330932    7.7875    NaN        Q  \n",
       "109  female  NaN      1      0             371110   24.1500    NaN        Q  \n",
       "128  female  NaN      1      1               2668   22.3583  F E69        C  \n",
       "180  female  NaN      8      2           CA. 2343   69.5500    NaN        S  \n",
       "198  female  NaN      0      0             370370    7.7500    NaN        Q  \n",
       "229  female  NaN      3      1               4133   25.4667    NaN        S  \n",
       "235  female  NaN      0      0         W./C. 6609    7.5500    NaN        S  \n",
       "240  female  NaN      1      0               2665   14.4542    NaN        C  \n",
       "241  female  NaN      1      0             367230   15.5000    NaN        Q  \n",
       "264  female  NaN      0      0             382649    7.7500    NaN        Q  \n",
       "274  female  NaN      0      0             370375    7.7500    NaN        Q  \n",
       "300  female  NaN      0      0               9234    7.7500    NaN        Q  \n",
       "303  female  NaN      0      0             226593   12.3500   E101        Q  \n",
       "306  female  NaN      0      0              17421  110.8833    NaN        C  \n",
       "330  female  NaN      2      0             367226   23.2500    NaN        Q  \n",
       "358  female  NaN      0      0             330931    7.8792    NaN        Q  \n",
       "359  female  NaN      0      0             330980    7.8792    NaN        Q  \n",
       "368  female  NaN      0      0              14313    7.7500    NaN        Q  \n",
       "409  female  NaN      3      1               4133   25.4667    NaN        S  \n",
       "485  female  NaN      3      1               4133   25.4667    NaN        S  \n",
       "502  female  NaN      0      0             330909    7.6292    NaN        Q  \n",
       "564  female  NaN      0      0  SOTON/O.Q. 392087    8.0500    NaN        S  \n",
       "573  female  NaN      0      0              14312    7.7500    NaN        Q  \n",
       "593  female  NaN      0      2             364848    7.7500    NaN        Q  \n",
       "596  female  NaN      0      0             248727   33.0000    NaN        S  \n",
       "612  female  NaN      1      0             367230   15.5000    NaN        Q  \n",
       "653  female  NaN      0      0             330919    7.8292    NaN        Q  \n",
       "680  female  NaN      0      0             330935    8.1375    NaN        Q  \n",
       "697  female  NaN      0      0              35852    7.7333    NaN        Q  \n",
       "727  female  NaN      0      0              36866    7.7375    NaN        Q  \n",
       "792  female  NaN      8      2           CA. 2343   69.5500    NaN        S  \n",
       "863  female  NaN      8      2           CA. 2343   69.5500    NaN        S  \n",
       "888  female  NaN      1      2         W./C. 6607   23.4500    NaN        S  "
      ]
     },
     "execution_count": 16,
     "metadata": {},
     "output_type": "execute_result"
    }
   ],
   "source": [
    "miss_null_age_mask = df.Name.str.contains(r'\\bMiss\\b') & df.Age.isnull()\n",
    "df.loc[miss_null_age_mask]"
   ]
  },
  {
   "cell_type": "markdown",
   "metadata": {},
   "source": [
    "Lots of low `Fare` values here. Let's see if they might be children."
   ]
  },
  {
   "cell_type": "code",
   "execution_count": 17,
   "metadata": {},
   "outputs": [
    {
     "data": {
      "text/plain": [
       "count    37.000000\n",
       "mean     22.418919\n",
       "std       6.486646\n",
       "min      13.000000\n",
       "25%      18.000000\n",
       "50%      22.000000\n",
       "75%      25.000000\n",
       "max      45.000000\n",
       "Name: Age, dtype: float64"
      ]
     },
     "execution_count": 17,
     "metadata": {},
     "output_type": "execute_result"
    }
   ],
   "source": [
    "df[df.Age.notnull() & df.Name.str.contains(r'\\bMiss\\b') & (df.Fare < 10.)] \\\n",
    "    .Age.describe()"
   ]
  },
  {
   "cell_type": "code",
   "execution_count": 18,
   "metadata": {},
   "outputs": [
    {
     "data": {
      "text/plain": [
       "count    74.000000\n",
       "mean     17.317568\n",
       "std      13.589965\n",
       "min       0.750000\n",
       "25%       5.000000\n",
       "50%      16.500000\n",
       "75%      24.750000\n",
       "max      58.000000\n",
       "Name: Age, dtype: float64"
      ]
     },
     "execution_count": 18,
     "metadata": {},
     "output_type": "execute_result"
    }
   ],
   "source": [
    "df[df.Age.notnull() & df.Name.str.contains(r'\\bMiss\\b') & (df.Fare >= 10.) & (df.Fare < 70.)] \\\n",
    "    .Age.describe()"
   ]
  },
  {
   "cell_type": "code",
   "execution_count": 19,
   "metadata": {},
   "outputs": [
    {
     "data": {
      "text/plain": [
       "count     7.000000\n",
       "mean     35.714286\n",
       "std      16.918572\n",
       "min      18.000000\n",
       "25%      23.500000\n",
       "50%      32.000000\n",
       "75%      45.000000\n",
       "max      63.000000\n",
       "Name: Age, dtype: float64"
      ]
     },
     "execution_count": 19,
     "metadata": {},
     "output_type": "execute_result"
    }
   ],
   "source": [
    "df[df.Age.notnull() & df.Name.str.contains(r'\\bMiss\\b') & (df.Fare >= 70.) & (df.Fare < 80.)] \\\n",
    "    .Age.describe()"
   ]
  },
  {
   "cell_type": "code",
   "execution_count": 20,
   "metadata": {},
   "outputs": [
    {
     "data": {
      "text/plain": [
       "count    21.000000\n",
       "mean     28.952381\n",
       "std      12.179804\n",
       "min       2.000000\n",
       "25%      22.000000\n",
       "50%      30.000000\n",
       "75%      36.000000\n",
       "max      58.000000\n",
       "Name: Age, dtype: float64"
      ]
     },
     "execution_count": 20,
     "metadata": {},
     "output_type": "execute_result"
    }
   ],
   "source": [
    "df[df.Age.notnull() & df.Name.str.contains(r'\\bMiss\\b') & (df.Fare >= 100.)] \\\n",
    "    .Age.describe()"
   ]
  },
  {
   "cell_type": "markdown",
   "metadata": {},
   "source": [
    "There's also a `Ms` in the test data with a null value."
   ]
  },
  {
   "cell_type": "code",
   "execution_count": 21,
   "metadata": {},
   "outputs": [
    {
     "data": {
      "text/plain": [
       "count     1.0\n",
       "mean     28.0\n",
       "std       NaN\n",
       "min      28.0\n",
       "25%      28.0\n",
       "50%      28.0\n",
       "75%      28.0\n",
       "max      28.0\n",
       "Name: Age, dtype: float64"
      ]
     },
     "execution_count": 21,
     "metadata": {},
     "output_type": "execute_result"
    }
   ],
   "source": [
    "df[df.Age.notnull() & df.Name.str.contains(r'\\bMs\\b')].Age.describe()"
   ]
  },
  {
   "cell_type": "markdown",
   "metadata": {},
   "source": [
    "### Dig into the data"
   ]
  },
  {
   "cell_type": "code",
   "execution_count": 22,
   "metadata": {},
   "outputs": [],
   "source": [
    "import matplotlib.pyplot as plt\n",
    "%matplotlib inline"
   ]
  },
  {
   "cell_type": "code",
   "execution_count": 23,
   "metadata": {},
   "outputs": [
    {
     "data": {
      "text/plain": [
       "(array([ 54.,  46., 177., 169., 118.,  70.,  45.,  24.,   9.,   2.]),\n",
       " array([ 0.42 ,  8.378, 16.336, 24.294, 32.252, 40.21 , 48.168, 56.126,\n",
       "        64.084, 72.042, 80.   ]),\n",
       " <BarContainer object of 10 artists>)"
      ]
     },
     "execution_count": 23,
     "metadata": {},
     "output_type": "execute_result"
    },
    {
     "data": {
      "image/png": "[encoded data removed]",
      "text/plain": [
       "<Figure size 432x288 with 1 Axes>"
      ]
     },
     "metadata": {
      "needs_background": "light"
     },
     "output_type": "display_data"
    }
   ],
   "source": [
    "plt.hist(df.Age)"
   ]
  },
  {
   "cell_type": "code",
   "execution_count": 24,
   "metadata": {},
   "outputs": [
    {
     "name": "stdout",
     "output_type": "stream",
     "text": [
      "549 died (61.6%). 342 survived (38.4%)\n"
     ]
    }
   ],
   "source": [
    "died = (df.Survived == 0.).sum()\n",
    "survived = (df.Survived == 1.).sum()\n",
    "percent_died = 100. * died / (died + survived)\n",
    "print(f'{died} died ({percent_died:0.1f}%). {survived} survived ({100. - percent_died:0.1f}%)')"
   ]
  },
  {
   "cell_type": "code",
   "execution_count": 25,
   "metadata": {},
   "outputs": [
    {
     "data": {
      "text/plain": [
       "3    491\n",
       "1    216\n",
       "2    184\n",
       "Name: Pclass, dtype: int64"
      ]
     },
     "execution_count": 25,
     "metadata": {},
     "output_type": "execute_result"
    }
   ],
   "source": [
    "df.Pclass.value_counts()"
   ]
  },
  {
   "cell_type": "markdown",
   "metadata": {},
   "source": [
    "### Age Groups\n",
    "Let's just use Fibonacci for now. Looks about right. Life expectancy of white men and women around 1912 was around 50-55 years old."
   ]
  },
  {
   "cell_type": "code",
   "execution_count": 26,
   "metadata": {},
   "outputs": [],
   "source": [
    "age_bins = [0., 1., 2., 3., 5., 8., 13., 21., 34., 55., 89.]\n",
    "age_group_labels = [f'Under {b}' for b in age_bins[1:]]\n",
    "df['AgeGroup'] = pd.cut(df.Age, bins=age_bins, labels=age_group_labels)"
   ]
  },
  {
   "cell_type": "raw",
   "metadata": {},
   "source": [
    "df.info()"
   ]
  },
  {
   "cell_type": "code",
   "execution_count": 27,
   "metadata": {},
   "outputs": [
    {
     "data": {
      "text/plain": [
       "<AxesSubplot:>"
      ]
     },
     "execution_count": 27,
     "metadata": {},
     "output_type": "execute_result"
    },
    {
     "data": {
      "image/png": "[encoded data removed]",
      "text/plain": [
       "<Figure size 432x288 with 1 Axes>"
      ]
     },
     "metadata": {
      "needs_background": "light"
     },
     "output_type": "display_data"
    }
   ],
   "source": [
    "df['AgeGroup'].value_counts().plot.bar()"
   ]
  },
  {
   "cell_type": "code",
   "execution_count": 28,
   "metadata": {},
   "outputs": [],
   "source": [
    "age_group_survived = df['AgeGroup'].where(df['Survived'] == 1.).value_counts()\n",
    "age_group_died = df['AgeGroup'].where(df['Survived'] == 0.).value_counts()\n",
    "age_group_survived_df = pd.DataFrame({\n",
    "    'Survived': age_group_survived,\n",
    "    'Died': age_group_died,\n",
    "}, index=df['AgeGroup'].cat.categories)"
   ]
  },
  {
   "cell_type": "code",
   "execution_count": 29,
   "metadata": {},
   "outputs": [
    {
     "data": {
      "text/html": [
       "<div>\n",
       "<style scoped>\n",
       "    .dataframe tbody tr th:only-of-type {\n",
       "        vertical-align: middle;\n",
       "    }\n",
       "\n",
       "    .dataframe tbody tr th {\n",
       "        vertical-align: top;\n",
       "    }\n",
       "\n",
       "    .dataframe thead th {\n",
       "        text-align: right;\n",
       "    }\n",
       "</style>\n",
       "<table border=\"1\" class=\"dataframe\">\n",
       "  <thead>\n",
       "    <tr style=\"text-align: right;\">\n",
       "      <th></th>\n",
       "      <th>Survived</th>\n",
       "      <th>Died</th>\n",
       "    </tr>\n",
       "  </thead>\n",
       "  <tbody>\n",
       "    <tr>\n",
       "      <th>Under 1.0</th>\n",
       "      <td>12</td>\n",
       "      <td>2</td>\n",
       "    </tr>\n",
       "    <tr>\n",
       "      <th>Under 2.0</th>\n",
       "      <td>3</td>\n",
       "      <td>7</td>\n",
       "    </tr>\n",
       "    <tr>\n",
       "      <th>Under 3.0</th>\n",
       "      <td>5</td>\n",
       "      <td>1</td>\n",
       "    </tr>\n",
       "    <tr>\n",
       "      <th>Under 5.0</th>\n",
       "      <td>11</td>\n",
       "      <td>3</td>\n",
       "    </tr>\n",
       "    <tr>\n",
       "      <th>Under 8.0</th>\n",
       "      <td>5</td>\n",
       "      <td>5</td>\n",
       "    </tr>\n",
       "    <tr>\n",
       "      <th>Under 13.0</th>\n",
       "      <td>6</td>\n",
       "      <td>11</td>\n",
       "    </tr>\n",
       "    <tr>\n",
       "      <th>Under 21.0</th>\n",
       "      <td>45</td>\n",
       "      <td>88</td>\n",
       "    </tr>\n",
       "    <tr>\n",
       "      <th>Under 34.0</th>\n",
       "      <td>109</td>\n",
       "      <td>165</td>\n",
       "    </tr>\n",
       "    <tr>\n",
       "      <th>Under 55.0</th>\n",
       "      <td>82</td>\n",
       "      <td>114</td>\n",
       "    </tr>\n",
       "    <tr>\n",
       "      <th>Under 89.0</th>\n",
       "      <td>12</td>\n",
       "      <td>28</td>\n",
       "    </tr>\n",
       "  </tbody>\n",
       "</table>\n",
       "</div>"
      ],
      "text/plain": [
       "            Survived  Died\n",
       "Under 1.0         12     2\n",
       "Under 2.0          3     7\n",
       "Under 3.0          5     1\n",
       "Under 5.0         11     3\n",
       "Under 8.0          5     5\n",
       "Under 13.0         6    11\n",
       "Under 21.0        45    88\n",
       "Under 34.0       109   165\n",
       "Under 55.0        82   114\n",
       "Under 89.0        12    28"
      ]
     },
     "execution_count": 29,
     "metadata": {},
     "output_type": "execute_result"
    }
   ],
   "source": [
    "age_group_survived_df"
   ]
  },
  {
   "cell_type": "code",
   "execution_count": 30,
   "metadata": {},
   "outputs": [
    {
     "data": {
      "text/plain": [
       "<AxesSubplot:>"
      ]
     },
     "execution_count": 30,
     "metadata": {},
     "output_type": "execute_result"
    },
    {
     "data": {
      "image/png": "[encoded data removed]",
      "text/plain": [
       "<Figure size 432x288 with 1 Axes>"
      ]
     },
     "metadata": {
      "needs_background": "light"
     },
     "output_type": "display_data"
    }
   ],
   "source": [
    "age_group_survived_df.plot.bar(stacked=True)"
   ]
  },
  {
   "cell_type": "code",
   "execution_count": 31,
   "metadata": {},
   "outputs": [
    {
     "data": {
      "text/plain": [
       "Under 1.0     14.285714\n",
       "Under 2.0     70.000000\n",
       "Under 3.0     16.666667\n",
       "Under 5.0     21.428571\n",
       "Under 8.0     50.000000\n",
       "Under 13.0    64.705882\n",
       "Under 21.0    66.165414\n",
       "Under 34.0    60.218978\n",
       "Under 55.0    58.163265\n",
       "Under 89.0    70.000000\n",
       "Name: DeathRate, dtype: float64"
      ]
     },
     "execution_count": 31,
     "metadata": {},
     "output_type": "execute_result"
    }
   ],
   "source": [
    "age_group_survived_df['DeathRate'] = 100. * age_group_survived_df['Died']\\\n",
    "    / (age_group_survived_df['Died'] + age_group_survived_df['Survived'])\n",
    "age_group_survived_df['DeathRate']"
   ]
  },
  {
   "cell_type": "markdown",
   "metadata": {},
   "source": [
    "#### Death rate by age thoughts\n",
    "* Under 8 years old is generally better for survival. In practically it probably on the survival of the parent and the parent probably gets better treatment if they they have children.\n",
    "* Older than 55 has highest rate of mortality. This is inline with life-expectancy at the time.\n",
    "* Worst is between 1 and 2 (small but active?) and 55-89 (slow to move?).\n",
    "\n",
    "_Note: I played with the age groups a little and didn't find any particular benefit to using non-fibonacci buckets, though will use less buckets in lower ages_"
   ]
  },
  {
   "cell_type": "markdown",
   "metadata": {},
   "source": [
    "### Pclass (Ticket Class) Analysis"
   ]
  },
  {
   "cell_type": "code",
   "execution_count": 32,
   "metadata": {},
   "outputs": [],
   "source": [
    "import seaborn as sns\n",
    "\n",
    "# some plots derived from https://seaborn.pydata.org/generated/seaborn.countplot.html"
   ]
  },
  {
   "cell_type": "code",
   "execution_count": 33,
   "metadata": {},
   "outputs": [
    {
     "data": {
      "image/png": "[encoded data removed]",
      "text/plain": [
       "<Figure size 432x288 with 1 Axes>"
      ]
     },
     "metadata": {
      "needs_background": "light"
     },
     "output_type": "display_data"
    }
   ],
   "source": [
    "ax = sns.countplot(x='Pclass', data=df)"
   ]
  },
  {
   "cell_type": "code",
   "execution_count": 34,
   "metadata": {},
   "outputs": [
    {
     "data": {
      "text/plain": [
       "<AxesSubplot:xlabel='Pclass', ylabel='count'>"
      ]
     },
     "execution_count": 34,
     "metadata": {},
     "output_type": "execute_result"
    },
    {
     "data": {
      "image/png": "[encoded data removed]",
      "text/plain": [
       "<Figure size 432x288 with 1 Axes>"
      ]
     },
     "metadata": {
      "needs_background": "light"
     },
     "output_type": "display_data"
    }
   ],
   "source": [
    "sns.countplot(x=\"Pclass\", hue=\"Survived\", data=df)"
   ]
  },
  {
   "cell_type": "markdown",
   "metadata": {},
   "source": [
    "#### Huge bias for dying in 3rd Class\n"
   ]
  },
  {
   "cell_type": "code",
   "execution_count": 35,
   "metadata": {},
   "outputs": [
    {
     "name": "stdout",
     "output_type": "stream",
     "text": [
      "(1, 80, 136, 0.37037037037037035, 0.24242424242424243, 0.6296296296296297)\n",
      "(2, 97, 87, 0.5271739130434783, 0.20650953984287318, 0.5271739130434783)\n",
      "(3, 372, 119, 0.7576374745417516, 0.5510662177328844, 0.7576374745417516)\n",
      "Predictability of death based on class data alone is 67.9%\n"
     ]
    }
   ],
   "source": [
    "predictability = 0.\n",
    "for c in [1, 2, 3]:\n",
    "    in_class = df['Survived'].where(df['Pclass'] == c)\n",
    "    died = in_class.where(df['Survived'] == 0.).count()\n",
    "    survived = in_class.where(df['Survived'] == 1.).count()\n",
    "    class_death_rate = died / (died + survived)\n",
    "    prob_of_class = in_class.count() / len(df)\n",
    "    if c == 1:\n",
    "        # Let's always guess that 1st Class survives.\n",
    "        # We'll be right most of the time.\n",
    "        class_predictability = 1. - class_death_rate\n",
    "    elif c == 2:\n",
    "        # Let's always guess that 2nd Class dies.\n",
    "        # We'll be right slightly more than we're wrong.\n",
    "        class_predictability = class_death_rate\n",
    "    elif c == 3:\n",
    "        # Let's always guess that 3rd Class dies.\n",
    "        # We'll be right most of the time.\n",
    "        class_predictability = class_death_rate\n",
    "        \n",
    "    predictability += class_predictability * prob_of_class\n",
    "    print((c, died, survived, class_death_rate, prob_of_class, class_predictability))\n",
    "\n",
    "print(f'Predictability of death based on class data alone is {100. * predictability:0.1f}%')"
   ]
  },
  {
   "cell_type": "markdown",
   "metadata": {},
   "source": [
    "Even the most basic model that always predicted you'd die in 3rd Class would be 75.76% accurate for just that class. Overall we could use this data to get 67.9% accuracy."
   ]
  },
  {
   "cell_type": "code",
   "execution_count": 36,
   "metadata": {},
   "outputs": [
    {
     "data": {
      "text/plain": [
       "<AxesSubplot:xlabel='CabinLetter', ylabel='count'>"
      ]
     },
     "execution_count": 36,
     "metadata": {},
     "output_type": "execute_result"
    },
    {
     "data": {
      "image/png": "[encoded data removed]",
      "text/plain": [
       "<Figure size 432x288 with 1 Axes>"
      ]
     },
     "metadata": {
      "needs_background": "light"
     },
     "output_type": "display_data"
    }
   ],
   "source": [
    "# Let's look at cabin letters, replacing NaN with 'X'\n",
    "df['CabinLetter'] = df.Cabin.str.slice(stop=1).fillna('X')\n",
    "\n",
    "sns.countplot(x=\"CabinLetter\", hue=\"Survived\", data=df)"
   ]
  },
  {
   "cell_type": "markdown",
   "metadata": {},
   "source": [
    "Seems like there's a lot of Xs (NaN / no cabin letter) and those have a much higher mortality rate than defined cabins."
   ]
  },
  {
   "cell_type": "markdown",
   "metadata": {},
   "source": [
    "#### Embarked"
   ]
  },
  {
   "cell_type": "code",
   "execution_count": 37,
   "metadata": {},
   "outputs": [
    {
     "data": {
      "text/plain": [
       "array(['S', 'C', 'Q'], dtype=object)"
      ]
     },
     "execution_count": 37,
     "metadata": {},
     "output_type": "execute_result"
    }
   ],
   "source": [
    "df.Embarked.unique()"
   ]
  },
  {
   "cell_type": "markdown",
   "metadata": {},
   "source": [
    "## Model\n",
    "It would be good to start cleaning the data and get basic model going.\n",
    "Let's train on the following fields for now...\n",
    "* PClass. One-hot encode.\n",
    "* Sex. Convert to Male (0. or 1.)\n",
    "* Age. Convert NaNs to average age. Bucket as Fibonacci (see above) and one-hot encode.\n",
    "* SibSp. Normalize to range 0. to 1. Possible test data has higher number, which could skew things.\n",
    "* Parch. Normalize to range 0. to 1. Possible test data has higher number, which could skew things.\n",
    "* Fare. Normalize to range 0. to 1. Better to bucket this?\n",
    "\n",
    "Obviously output is Survival, which will be a binary classifer."
   ]
  },
  {
   "cell_type": "markdown",
   "metadata": {},
   "source": [
    "### Training Data"
   ]
  },
  {
   "cell_type": "code",
   "execution_count": 38,
   "metadata": {},
   "outputs": [],
   "source": [
    "import re\n",
    "\n",
    "def prep_input_data(df):\n",
    "    df = df.copy()    \n",
    "    \n",
    "    unchanged_x_cols = ['SibSp', 'Parch', 'Fare']\n",
    "    additional_x_cols = []\n",
    "    \n",
    "    df_clean = df[unchanged_x_cols].copy()\n",
    "    df_clean['Male'] = 0\n",
    "    df_clean.loc[df['Sex'] == 'male', 'Male'] = 1\n",
    "    additional_x_cols.append('Male')\n",
    "\n",
    "    df.loc[df.Embarked.isnull(), 'Embarked'] = 'C'\n",
    "    # one-hot encode classes\n",
    "    for e in ['C', 'Q', 'S']:\n",
    "        col_name = 'Embarked' + str(e)\n",
    "        df_clean[col_name] = (df.Embarked == e).values.astype('int')\n",
    "        additional_x_cols.append(col_name)\n",
    "\n",
    "    cabin_letter = df.Cabin.str.slice(stop=1).fillna('X')\n",
    "    for l in ['A', 'B', 'C', 'D', 'E', 'F', 'G', 'T', 'X']:\n",
    "        col_name = 'CabinLetter' + l\n",
    "        df_clean[col_name] = (cabin_letter == l).values.astype('int')\n",
    "        additional_x_cols.append(col_name)\n",
    "\n",
    "    # guess ages where it's missing and we have other information\n",
    "    for honorific, age in {'Dr': 30., 'Master': 12., 'Mr': 30., 'Mrs': 30., 'Rev': 30.}.items():\n",
    "        df.loc[df.Name.str.contains(re.compile(r'\\b' + honorific + r'\\b')) & df.Age.isnull(), 'Age'] = age\n",
    "\n",
    "    # update Miss ages with median of similar passengers\n",
    "    miss_null_age_mask = df.Name.str.contains(r'\\bMiss\\b') & df.Age.isnull()\n",
    "    df.loc[miss_null_age_mask & (df.Fare < 10.), 'Age'] = 22.\n",
    "    df.loc[miss_null_age_mask & (df.Fare >= 10.) & (df.Fare < 70.), 'Age'] = 17.\n",
    "    df.loc[miss_null_age_mask & (df.Fare >= 70.) & (df.Fare < 80.), 'Age'] = 35.\n",
    "    df.loc[miss_null_age_mask & (df.Fare >= 100.), 'Age'] = 28.\n",
    "    df.loc[df.Name.str.contains(r'\\bMs\\b') & df.Age.isnull(), 'Age'] = 28.\n",
    "\n",
    "    # group ages into bins\n",
    "    age_bins = [5., 15., 34., 55., 89.]\n",
    "    age_group_labels = [f'Under{b}' for b in age_bins[1:]]\n",
    "\n",
    "    # one-hot encode age bins\n",
    "    age_groups = pd.cut(df.Age, bins=age_bins, labels=age_group_labels)\n",
    "    age_groups_onehot = pd.get_dummies(age_groups, prefix='Age')\n",
    "    df_clean = df_clean.join(age_groups_onehot)\n",
    "    additional_x_cols += age_groups_onehot.columns.tolist()\n",
    "\n",
    "    # one-hot encode classes\n",
    "    for c in [1, 2, 3]:\n",
    "        col_name = 'Class' + str(c)\n",
    "        additional_x_cols.append(col_name)\n",
    "        df_clean[col_name] = (df.Pclass == c).values.astype('int')\n",
    "        \n",
    "    # Fix missing Fare\n",
    "    df_clean.loc[df.PassengerId == 1044, 'Fare'] = 10.52\n",
    "\n",
    "    x_cols = unchanged_x_cols + additional_x_cols\n",
    "\n",
    "    return df_clean, x_cols\n",
    "\n",
    "\n",
    "def prep_training_data(df):\n",
    "    df_clean, x_cols = prep_input_data(df)\n",
    "\n",
    "    y_col = ['Survived']\n",
    "    df_clean[y_col] = df[y_col]\n",
    "    \n",
    "    # shuffle\n",
    "    df_clean = df_clean.sample(frac=1).reset_index(drop=True)\n",
    "    \n",
    "    train_len = int(0.8 * len(df_clean))\n",
    "    \n",
    "    df_train = df_clean.head(train_len)\n",
    "    df_val = df_clean.tail(len(df_clean) - train_len)\n",
    "    \n",
    "    return df_train, df_val, x_cols, y_col"
   ]
  },
  {
   "cell_type": "code",
   "execution_count": 39,
   "metadata": {
    "scrolled": true
   },
   "outputs": [
    {
     "name": "stdout",
     "output_type": "stream",
     "text": [
      "<class 'pandas.core.frame.DataFrame'>\n",
      "RangeIndex: 712 entries, 0 to 711\n",
      "Data columns (total 24 columns):\n",
      " #   Column         Non-Null Count  Dtype  \n",
      "---  ------         --------------  -----  \n",
      " 0   SibSp          712 non-null    int64  \n",
      " 1   Parch          712 non-null    int64  \n",
      " 2   Fare           712 non-null    float64\n",
      " 3   Male           712 non-null    int64  \n",
      " 4   EmbarkedC      712 non-null    int64  \n",
      " 5   EmbarkedQ      712 non-null    int64  \n",
      " 6   EmbarkedS      712 non-null    int64  \n",
      " 7   CabinLetterA   712 non-null    int64  \n",
      " 8   CabinLetterB   712 non-null    int64  \n",
      " 9   CabinLetterC   712 non-null    int64  \n",
      " 10  CabinLetterD   712 non-null    int64  \n",
      " 11  CabinLetterE   712 non-null    int64  \n",
      " 12  CabinLetterF   712 non-null    int64  \n",
      " 13  CabinLetterG   712 non-null    int64  \n",
      " 14  CabinLetterT   712 non-null    int64  \n",
      " 15  CabinLetterX   712 non-null    int64  \n",
      " 16  Age_Under15.0  712 non-null    uint8  \n",
      " 17  Age_Under34.0  712 non-null    uint8  \n",
      " 18  Age_Under55.0  712 non-null    uint8  \n",
      " 19  Age_Under89.0  712 non-null    uint8  \n",
      " 20  Class1         712 non-null    int64  \n",
      " 21  Class2         712 non-null    int64  \n",
      " 22  Class3         712 non-null    int64  \n",
      " 23  Survived       712 non-null    int64  \n",
      "dtypes: float64(1), int64(19), uint8(4)\n",
      "memory usage: 114.2 KB\n"
     ]
    }
   ],
   "source": [
    "from sklearn import metrics\n",
    "\n",
    "df_train, df_val, x_cols, y_col = prep_training_data(df)\n",
    "\n",
    "df_train.info()"
   ]
  },
  {
   "cell_type": "markdown",
   "metadata": {},
   "source": [
    "### Test (Submission) Data"
   ]
  },
  {
   "cell_type": "code",
   "execution_count": 40,
   "metadata": {},
   "outputs": [
    {
     "name": "stdout",
     "output_type": "stream",
     "text": [
      "<class 'pandas.core.frame.DataFrame'>\n",
      "RangeIndex: 418 entries, 0 to 417\n",
      "Data columns (total 11 columns):\n",
      " #   Column       Non-Null Count  Dtype  \n",
      "---  ------       --------------  -----  \n",
      " 0   PassengerId  418 non-null    int64  \n",
      " 1   Pclass       418 non-null    int64  \n",
      " 2   Name         418 non-null    object \n",
      " 3   Sex          418 non-null    object \n",
      " 4   Age          332 non-null    float64\n",
      " 5   SibSp        418 non-null    int64  \n",
      " 6   Parch        418 non-null    int64  \n",
      " 7   Ticket       418 non-null    object \n",
      " 8   Fare         417 non-null    float64\n",
      " 9   Cabin        91 non-null     object \n",
      " 10  Embarked     418 non-null    object \n",
      "dtypes: float64(2), int64(4), object(5)\n",
      "memory usage: 36.0+ KB\n"
     ]
    },
    {
     "data": {
      "text/html": [
       "<div>\n",
       "<style scoped>\n",
       "    .dataframe tbody tr th:only-of-type {\n",
       "        vertical-align: middle;\n",
       "    }\n",
       "\n",
       "    .dataframe tbody tr th {\n",
       "        vertical-align: top;\n",
       "    }\n",
       "\n",
       "    .dataframe thead th {\n",
       "        text-align: right;\n",
       "    }\n",
       "</style>\n",
       "<table border=\"1\" class=\"dataframe\">\n",
       "  <thead>\n",
       "    <tr style=\"text-align: right;\">\n",
       "      <th></th>\n",
       "      <th>PassengerId</th>\n",
       "      <th>Pclass</th>\n",
       "      <th>Name</th>\n",
       "      <th>Sex</th>\n",
       "      <th>Age</th>\n",
       "      <th>SibSp</th>\n",
       "      <th>Parch</th>\n",
       "      <th>Ticket</th>\n",
       "      <th>Fare</th>\n",
       "      <th>Cabin</th>\n",
       "      <th>Embarked</th>\n",
       "    </tr>\n",
       "  </thead>\n",
       "  <tbody>\n",
       "    <tr>\n",
       "      <th>0</th>\n",
       "      <td>892</td>\n",
       "      <td>3</td>\n",
       "      <td>Kelly, Mr. James</td>\n",
       "      <td>male</td>\n",
       "      <td>34.5</td>\n",
       "      <td>0</td>\n",
       "      <td>0</td>\n",
       "      <td>330911</td>\n",
       "      <td>7.8292</td>\n",
       "      <td>NaN</td>\n",
       "      <td>Q</td>\n",
       "    </tr>\n",
       "    <tr>\n",
       "      <th>1</th>\n",
       "      <td>893</td>\n",
       "      <td>3</td>\n",
       "      <td>Wilkes, Mrs. James (Ellen Needs)</td>\n",
       "      <td>female</td>\n",
       "      <td>47.0</td>\n",
       "      <td>1</td>\n",
       "      <td>0</td>\n",
       "      <td>363272</td>\n",
       "      <td>7.0000</td>\n",
       "      <td>NaN</td>\n",
       "      <td>S</td>\n",
       "    </tr>\n",
       "    <tr>\n",
       "      <th>2</th>\n",
       "      <td>894</td>\n",
       "      <td>2</td>\n",
       "      <td>Myles, Mr. Thomas Francis</td>\n",
       "      <td>male</td>\n",
       "      <td>62.0</td>\n",
       "      <td>0</td>\n",
       "      <td>0</td>\n",
       "      <td>240276</td>\n",
       "      <td>9.6875</td>\n",
       "      <td>NaN</td>\n",
       "      <td>Q</td>\n",
       "    </tr>\n",
       "    <tr>\n",
       "      <th>3</th>\n",
       "      <td>895</td>\n",
       "      <td>3</td>\n",
       "      <td>Wirz, Mr. Albert</td>\n",
       "      <td>male</td>\n",
       "      <td>27.0</td>\n",
       "      <td>0</td>\n",
       "      <td>0</td>\n",
       "      <td>315154</td>\n",
       "      <td>8.6625</td>\n",
       "      <td>NaN</td>\n",
       "      <td>S</td>\n",
       "    </tr>\n",
       "    <tr>\n",
       "      <th>4</th>\n",
       "      <td>896</td>\n",
       "      <td>3</td>\n",
       "      <td>Hirvonen, Mrs. Alexander (Helga E Lindqvist)</td>\n",
       "      <td>female</td>\n",
       "      <td>22.0</td>\n",
       "      <td>1</td>\n",
       "      <td>1</td>\n",
       "      <td>3101298</td>\n",
       "      <td>12.2875</td>\n",
       "      <td>NaN</td>\n",
       "      <td>S</td>\n",
       "    </tr>\n",
       "  </tbody>\n",
       "</table>\n",
       "</div>"
      ],
      "text/plain": [
       "   PassengerId  Pclass                                          Name     Sex  \\\n",
       "0          892       3                              Kelly, Mr. James    male   \n",
       "1          893       3              Wilkes, Mrs. James (Ellen Needs)  female   \n",
       "2          894       2                     Myles, Mr. Thomas Francis    male   \n",
       "3          895       3                              Wirz, Mr. Albert    male   \n",
       "4          896       3  Hirvonen, Mrs. Alexander (Helga E Lindqvist)  female   \n",
       "\n",
       "    Age  SibSp  Parch   Ticket     Fare Cabin Embarked  \n",
       "0  34.5      0      0   330911   7.8292   NaN        Q  \n",
       "1  47.0      1      0   363272   7.0000   NaN        S  \n",
       "2  62.0      0      0   240276   9.6875   NaN        Q  \n",
       "3  27.0      0      0   315154   8.6625   NaN        S  \n",
       "4  22.0      1      1  3101298  12.2875   NaN        S  "
      ]
     },
     "execution_count": 40,
     "metadata": {},
     "output_type": "execute_result"
    }
   ],
   "source": [
    "df_test = pd.read_csv('./data/test.csv')\n",
    "df_test.info()\n",
    "df_test.head()"
   ]
  },
  {
   "cell_type": "markdown",
   "metadata": {},
   "source": [
    "One record where the `Fare` is `null`...."
   ]
  },
  {
   "cell_type": "code",
   "execution_count": 41,
   "metadata": {},
   "outputs": [
    {
     "data": {
      "text/html": [
       "<div>\n",
       "<style scoped>\n",
       "    .dataframe tbody tr th:only-of-type {\n",
       "        vertical-align: middle;\n",
       "    }\n",
       "\n",
       "    .dataframe tbody tr th {\n",
       "        vertical-align: top;\n",
       "    }\n",
       "\n",
       "    .dataframe thead th {\n",
       "        text-align: right;\n",
       "    }\n",
       "</style>\n",
       "<table border=\"1\" class=\"dataframe\">\n",
       "  <thead>\n",
       "    <tr style=\"text-align: right;\">\n",
       "      <th></th>\n",
       "      <th>PassengerId</th>\n",
       "      <th>Pclass</th>\n",
       "      <th>Name</th>\n",
       "      <th>Sex</th>\n",
       "      <th>Age</th>\n",
       "      <th>SibSp</th>\n",
       "      <th>Parch</th>\n",
       "      <th>Ticket</th>\n",
       "      <th>Fare</th>\n",
       "      <th>Cabin</th>\n",
       "      <th>Embarked</th>\n",
       "    </tr>\n",
       "  </thead>\n",
       "  <tbody>\n",
       "    <tr>\n",
       "      <th>152</th>\n",
       "      <td>1044</td>\n",
       "      <td>3</td>\n",
       "      <td>Storey, Mr. Thomas</td>\n",
       "      <td>male</td>\n",
       "      <td>60.5</td>\n",
       "      <td>0</td>\n",
       "      <td>0</td>\n",
       "      <td>3701</td>\n",
       "      <td>NaN</td>\n",
       "      <td>NaN</td>\n",
       "      <td>S</td>\n",
       "    </tr>\n",
       "  </tbody>\n",
       "</table>\n",
       "</div>"
      ],
      "text/plain": [
       "     PassengerId  Pclass                Name   Sex   Age  SibSp  Parch Ticket  \\\n",
       "152         1044       3  Storey, Mr. Thomas  male  60.5      0      0   3701   \n",
       "\n",
       "     Fare Cabin Embarked  \n",
       "152   NaN   NaN        S  "
      ]
     },
     "execution_count": 41,
     "metadata": {},
     "output_type": "execute_result"
    }
   ],
   "source": [
    "df_test[df_test.Fare.isnull()]"
   ]
  },
  {
   "cell_type": "code",
   "execution_count": 42,
   "metadata": {},
   "outputs": [
    {
     "data": {
      "text/html": [
       "<div>\n",
       "<style scoped>\n",
       "    .dataframe tbody tr th:only-of-type {\n",
       "        vertical-align: middle;\n",
       "    }\n",
       "\n",
       "    .dataframe tbody tr th {\n",
       "        vertical-align: top;\n",
       "    }\n",
       "\n",
       "    .dataframe thead th {\n",
       "        text-align: right;\n",
       "    }\n",
       "</style>\n",
       "<table border=\"1\" class=\"dataframe\">\n",
       "  <thead>\n",
       "    <tr style=\"text-align: right;\">\n",
       "      <th></th>\n",
       "      <th>PassengerId</th>\n",
       "      <th>Pclass</th>\n",
       "      <th>Name</th>\n",
       "      <th>Sex</th>\n",
       "      <th>Age</th>\n",
       "      <th>SibSp</th>\n",
       "      <th>Parch</th>\n",
       "      <th>Ticket</th>\n",
       "      <th>Fare</th>\n",
       "      <th>Cabin</th>\n",
       "      <th>Embarked</th>\n",
       "    </tr>\n",
       "  </thead>\n",
       "  <tbody>\n",
       "    <tr>\n",
       "      <th>152</th>\n",
       "      <td>1044</td>\n",
       "      <td>3</td>\n",
       "      <td>Storey, Mr. Thomas</td>\n",
       "      <td>male</td>\n",
       "      <td>60.5</td>\n",
       "      <td>0</td>\n",
       "      <td>0</td>\n",
       "      <td>3701</td>\n",
       "      <td>NaN</td>\n",
       "      <td>NaN</td>\n",
       "      <td>S</td>\n",
       "    </tr>\n",
       "  </tbody>\n",
       "</table>\n",
       "</div>"
      ],
      "text/plain": [
       "     PassengerId  Pclass                Name   Sex   Age  SibSp  Parch Ticket  \\\n",
       "152         1044       3  Storey, Mr. Thomas  male  60.5      0      0   3701   \n",
       "\n",
       "     Fare Cabin Embarked  \n",
       "152   NaN   NaN        S  "
      ]
     },
     "execution_count": 42,
     "metadata": {},
     "output_type": "execute_result"
    }
   ],
   "source": [
    "df_test[(df_test.Ticket == '3701') | df_test.Name.str.startswith('Storey,')]"
   ]
  },
  {
   "cell_type": "code",
   "execution_count": 43,
   "metadata": {},
   "outputs": [
    {
     "data": {
      "text/plain": [
       "count     7.000000\n",
       "mean     10.525586\n",
       "std       3.806907\n",
       "min       7.000000\n",
       "25%       7.537500\n",
       "50%       7.895800\n",
       "75%      14.304150\n",
       "max      15.100000\n",
       "Name: Fare, dtype: float64"
      ]
     },
     "execution_count": 43,
     "metadata": {},
     "output_type": "execute_result"
    }
   ],
   "source": [
    "df_test[(df_test.Pclass == 3) & (df_test.Age > 40.)].Fare.describe()"
   ]
  },
  {
   "cell_type": "markdown",
   "metadata": {},
   "source": [
    "One record where `Age` is `null` for a `Ms`, which wasn't encountered in the training data. Updated prep code for this."
   ]
  },
  {
   "cell_type": "code",
   "execution_count": 44,
   "metadata": {},
   "outputs": [
    {
     "data": {
      "text/html": [
       "<div>\n",
       "<style scoped>\n",
       "    .dataframe tbody tr th:only-of-type {\n",
       "        vertical-align: middle;\n",
       "    }\n",
       "\n",
       "    .dataframe tbody tr th {\n",
       "        vertical-align: top;\n",
       "    }\n",
       "\n",
       "    .dataframe thead th {\n",
       "        text-align: right;\n",
       "    }\n",
       "</style>\n",
       "<table border=\"1\" class=\"dataframe\">\n",
       "  <thead>\n",
       "    <tr style=\"text-align: right;\">\n",
       "      <th></th>\n",
       "      <th>PassengerId</th>\n",
       "      <th>Survived</th>\n",
       "      <th>Pclass</th>\n",
       "      <th>Name</th>\n",
       "      <th>Sex</th>\n",
       "      <th>Age</th>\n",
       "      <th>SibSp</th>\n",
       "      <th>Parch</th>\n",
       "      <th>Ticket</th>\n",
       "      <th>Fare</th>\n",
       "      <th>Cabin</th>\n",
       "      <th>Embarked</th>\n",
       "      <th>AgeGroup</th>\n",
       "      <th>CabinLetter</th>\n",
       "    </tr>\n",
       "  </thead>\n",
       "  <tbody>\n",
       "    <tr>\n",
       "      <th>443</th>\n",
       "      <td>444</td>\n",
       "      <td>1</td>\n",
       "      <td>2</td>\n",
       "      <td>Reynaldo, Ms. Encarnacion</td>\n",
       "      <td>female</td>\n",
       "      <td>28.0</td>\n",
       "      <td>0</td>\n",
       "      <td>0</td>\n",
       "      <td>230434</td>\n",
       "      <td>13.0</td>\n",
       "      <td>NaN</td>\n",
       "      <td>S</td>\n",
       "      <td>Under 34.0</td>\n",
       "      <td>X</td>\n",
       "    </tr>\n",
       "  </tbody>\n",
       "</table>\n",
       "</div>"
      ],
      "text/plain": [
       "     PassengerId  Survived  Pclass                       Name     Sex   Age  \\\n",
       "443          444         1       2  Reynaldo, Ms. Encarnacion  female  28.0   \n",
       "\n",
       "     SibSp  Parch  Ticket  Fare Cabin Embarked    AgeGroup CabinLetter  \n",
       "443      0      0  230434  13.0   NaN        S  Under 34.0           X  "
      ]
     },
     "execution_count": 44,
     "metadata": {},
     "output_type": "execute_result"
    }
   ],
   "source": [
    "df[df.Age.notnull() & df.Name.str.contains(r'\\bMs\\b')]"
   ]
  },
  {
   "cell_type": "code",
   "execution_count": 45,
   "metadata": {},
   "outputs": [],
   "source": [
    "df_test_input, _ = prep_input_data(df_test)"
   ]
  },
  {
   "cell_type": "markdown",
   "metadata": {},
   "source": [
    "### DecisionTreeClassifier"
   ]
  },
  {
   "cell_type": "code",
   "execution_count": 46,
   "metadata": {},
   "outputs": [
    {
     "data": {
      "image/png": "[encoded data removed]",
      "text/plain": [
       "<Figure size 720x360 with 1 Axes>"
      ]
     },
     "metadata": {
      "needs_background": "light"
     },
     "output_type": "display_data"
    }
   ],
   "source": [
    "from sklearn.tree import DecisionTreeClassifier\n",
    "\n",
    "train_accuracies = []\n",
    "val_accuracies = []\n",
    "\n",
    "def train_decision_tree(max_depth):\n",
    "    clf = DecisionTreeClassifier(max_depth=max_depth)\n",
    "    clf.fit(df_train[x_cols], df_train[y_col])\n",
    "\n",
    "    train_predictions = clf.predict(df_train[x_cols])\n",
    "\n",
    "    train_accuracy = metrics.accuracy_score(df_train[y_col], train_predictions)\n",
    "\n",
    "    val_predictions = clf.predict(df_val[x_cols])\n",
    "\n",
    "    val_accuracy = metrics.accuracy_score(df_val[y_col], val_predictions)\n",
    "    \n",
    "    return clf, train_accuracy, val_accuracy\n",
    "    \n",
    "for max_depth in range(1, 25):\n",
    "    _, train_accuracy, val_accuracy = train_decision_tree(max_depth)\n",
    "    train_accuracies.append(train_accuracy)\n",
    "    val_accuracies.append(val_accuracy)\n",
    "    \n",
    "plt.figure(figsize=(10, 5))\n",
    "plt.title(\"DecisionTreeClassifier\", size=20)\n",
    "sns.set_style(\"whitegrid\")\n",
    "plt.plot(train_accuracies, label=\"train accuracy\")\n",
    "plt.plot(val_accuracies, label=\"val accuracy\")\n",
    "plt.legend(loc=\"upper left\", prop={'size': 15})\n",
    "plt.xticks(range(0, 26, 5))\n",
    "plt.xlabel(\"max_depth\", size=15)\n",
    "plt.ylabel(\"accuracy\", size=15)\n",
    "plt.show()"
   ]
  },
  {
   "cell_type": "markdown",
   "metadata": {},
   "source": [
    "Running the above several times, shows that `max_depth=5` is consistently where validation accuracy seems to peak, before random spikes up and down."
   ]
  },
  {
   "cell_type": "code",
   "execution_count": 47,
   "metadata": {},
   "outputs": [
    {
     "data": {
      "text/plain": [
       "(0.8398876404494382, 0.7597765363128491)"
      ]
     },
     "execution_count": 47,
     "metadata": {},
     "output_type": "execute_result"
    }
   ],
   "source": [
    "clf, train_accuracy, val_accuracy = train_decision_tree(5)\n",
    "train_accuracy, val_accuracy"
   ]
  },
  {
   "cell_type": "markdown",
   "metadata": {},
   "source": [
    "#### Submission"
   ]
  },
  {
   "cell_type": "code",
   "execution_count": 48,
   "metadata": {},
   "outputs": [
    {
     "data": {
      "text/plain": [
       "(0.9353932584269663, 0.8044692737430168)"
      ]
     },
     "execution_count": 48,
     "metadata": {},
     "output_type": "execute_result"
    }
   ],
   "source": [
    "clf, train_accuracy, val_accuracy = train_decision_tree(10)\n",
    "train_accuracy, val_accuracy"
   ]
  },
  {
   "cell_type": "code",
   "execution_count": 49,
   "metadata": {},
   "outputs": [],
   "source": [
    "dt_test_predictions = clf.predict(df_test_input)\n",
    "\n",
    "df_submission = pd.DataFrame({\n",
    "    'PassengerId': df_test['PassengerId'],\n",
    "    'Survived': dt_test_predictions,\n",
    "})\n",
    "\n",
    "df_submission.to_csv('./output/submission-decision-tree-classifier.csv', index=False)"
   ]
  },
  {
   "cell_type": "markdown",
   "metadata": {},
   "source": [
    "### RandomForestClassifier"
   ]
  },
  {
   "cell_type": "code",
   "execution_count": 50,
   "metadata": {},
   "outputs": [
    {
     "data": {
      "image/png": "[encoded data removed]",
      "text/plain": [
       "<Figure size 720x360 with 1 Axes>"
      ]
     },
     "metadata": {},
     "output_type": "display_data"
    }
   ],
   "source": [
    "from sklearn.ensemble import RandomForestClassifier\n",
    "\n",
    "train_accuracies = []\n",
    "val_accuracies = []\n",
    "\n",
    "def train_random_forest(n_estimators):\n",
    "    clf = RandomForestClassifier(n_estimators=n_estimators)\n",
    "    clf.fit(df_train[x_cols], df_train[y_col].squeeze(1))\n",
    "\n",
    "    train_predictions = clf.predict(df_train[x_cols])\n",
    "\n",
    "    train_accuracy = metrics.accuracy_score(df_train[y_col], train_predictions)\n",
    "\n",
    "    val_predictions = clf.predict(df_val[x_cols])\n",
    "\n",
    "    val_accuracy = metrics.accuracy_score(df_val[y_col], val_predictions)\n",
    "    \n",
    "    return clf, train_accuracy, val_accuracy\n",
    "    \n",
    "for n_estimators in range(1, 25):\n",
    "    _, train_accuracy, val_accuracy = train_random_forest(n_estimators)\n",
    "    train_accuracies.append(train_accuracy)\n",
    "    val_accuracies.append(val_accuracy)\n",
    "    \n",
    "plt.figure(figsize=(10, 5))\n",
    "plt.title(\"RandomForestClassifier\", size=20)\n",
    "sns.set_style(\"whitegrid\")\n",
    "plt.plot(train_accuracies, label=\"train accuracy\")\n",
    "plt.plot(val_accuracies, label=\"val accuracy\")\n",
    "plt.legend(loc=\"upper left\", prop={'size': 15})\n",
    "plt.xticks(range(0, 26, 5))\n",
    "plt.xlabel(\"max_depth\", size=15)\n",
    "plt.ylabel(\"accuracy\", size=15)\n",
    "plt.show()"
   ]
  },
  {
   "cell_type": "markdown",
   "metadata": {},
   "source": [
    "Running the above several times, shows that `max_depth=5` is consistently where validation accuracy seems to peak, before random spikes up and down."
   ]
  },
  {
   "cell_type": "markdown",
   "metadata": {},
   "source": [
    "#### Submission"
   ]
  },
  {
   "cell_type": "code",
   "execution_count": 51,
   "metadata": {},
   "outputs": [
    {
     "data": {
      "text/plain": [
       "(0.9367977528089888, 0.8156424581005587)"
      ]
     },
     "execution_count": 51,
     "metadata": {},
     "output_type": "execute_result"
    }
   ],
   "source": [
    "clf, train_accuracy, val_accuracy = train_decision_tree(10)\n",
    "train_accuracy, val_accuracy"
   ]
  },
  {
   "cell_type": "code",
   "execution_count": 52,
   "metadata": {},
   "outputs": [],
   "source": [
    "rf_test_predictions = clf.predict(df_test_input)\n",
    "\n",
    "df_submission = pd.DataFrame({\n",
    "    'PassengerId': df_test['PassengerId'],\n",
    "    'Survived': rf_test_predictions,\n",
    "})\n",
    "\n",
    "df_submission.to_csv('./output/submission-random-forest-classifier.csv', index=False)"
   ]
  },
  {
   "cell_type": "markdown",
   "metadata": {},
   "source": [
    "### DNN"
   ]
  },
  {
   "cell_type": "code",
   "execution_count": 53,
   "metadata": {},
   "outputs": [
    {
     "data": {
      "text/plain": [
       "(('train_x', torch.Size([712, 23]), torch.float32),\n",
       " ('train_y', torch.Size([712, 1]), torch.float32),\n",
       " ('val_x', torch.Size([179, 23]), torch.float32),\n",
       " ('val_y', torch.Size([179, 1]), torch.float32))"
      ]
     },
     "execution_count": 53,
     "metadata": {},
     "output_type": "execute_result"
    }
   ],
   "source": [
    "import torch\n",
    "from torch import tensor\n",
    "\n",
    "train_x = tensor(df_train[x_cols].values, dtype=torch.float32)\n",
    "train_y = tensor(df_train[y_col].values, dtype=torch.float32)\n",
    "val_x = tensor(df_val[x_cols].values, dtype=torch.float32)\n",
    "val_y = tensor(df_val[y_col].values, dtype=torch.float32)\n",
    "\n",
    "(('train_x', train_x.shape, train_x.dtype),\n",
    " ('train_y', train_y.shape, train_y.dtype),\n",
    " ('val_x', val_x.shape, val_x.dtype),\n",
    " ('val_y', val_y.shape, val_y.dtype))"
   ]
  },
  {
   "cell_type": "code",
   "execution_count": 54,
   "metadata": {},
   "outputs": [],
   "source": [
    "from sklearn import metrics\n",
    "from torch import nn, optim\n",
    "from torch.utils import tensorboard\n",
    "\n",
    "def train_dnn(n_hidden_units, n_hidden_layers=1, dropout=0.0, learning_rate=1e-4, epochs=10_000):\n",
    "\n",
    "    hidden_layers = []\n",
    "    for h in range(1, n_hidden_layers):\n",
    "        hidden_layers += [\n",
    "            nn.Linear(in_features=n_hidden_units, out_features=n_hidden_units, bias=True),\n",
    "            nn.ReLU(),\n",
    "            nn.Dropout(dropout),\n",
    "        ]\n",
    "\n",
    "    model = nn.Sequential(\n",
    "        nn.Linear(in_features=train_x.shape[-1], out_features=n_hidden_units, bias=True),\n",
    "        nn.ReLU(),\n",
    "        nn.Dropout(dropout),\n",
    "        *hidden_layers,\n",
    "        nn.Linear(in_features=n_hidden_units, out_features=train_y.shape[-1], bias=True),\n",
    "        nn.Sigmoid(),\n",
    "    )\n",
    "\n",
    "    #for name, param in model.named_parameters():\n",
    "    #    print(f'params for {name} = {param.shape} {param.dtype}')\n",
    "\n",
    "    loss_fn = nn.MSELoss()\n",
    "    optimizer = optim.Adam(params=model.parameters(), lr=learning_rate)\n",
    "\n",
    "    def calculate_loss(model, loss_fn, x, y, is_train):\n",
    "        with torch.set_grad_enabled(is_train):\n",
    "            model.train() if is_train else model.eval() \n",
    "            y_hat = model(x)\n",
    "            loss = loss_fn(y_hat, y)\n",
    "        assert loss.requires_grad == is_train\n",
    "        return (y_hat > 0.5), loss\n",
    "\n",
    "    tb_writer = tensorboard.SummaryWriter(comment=(f'_hu={n_hidden_units}'\n",
    "                                                   f'_hl={n_hidden_layers}'\n",
    "                                                   f'_lr={learning_rate}'\n",
    "                                                   f'_do={dropout}_'))\n",
    "\n",
    "    for epoch in range(1, epochs + 1):\n",
    "\n",
    "        train_preds, train_loss = calculate_loss(model, loss_fn, train_x, train_y, is_train=True)\n",
    "\n",
    "        optimizer.zero_grad()\n",
    "        train_loss.backward()\n",
    "        optimizer.step()\n",
    "\n",
    "        if epoch == 1 or epoch % 100 == 0:\n",
    "            train_acc = metrics.accuracy_score(train_y, train_preds) * 100.\n",
    "            val_preds, val_loss = calculate_loss(model, loss_fn, val_x, val_y, is_train=False)\n",
    "            val_acc = metrics.accuracy_score(val_y, val_preds) * 100.\n",
    "\n",
    "            tb_writer.add_scalar('Loss/train', train_loss, epoch)\n",
    "            tb_writer.add_scalar('Accuracy/train', train_acc, epoch)\n",
    "            tb_writer.add_scalar('Loss/val', val_loss, epoch)\n",
    "            tb_writer.add_scalar('Accuracy/val', val_acc, epoch)\n",
    "\n",
    "            #print(f'epoch = {epoch}  '\n",
    "            #      f'train loss = {train_loss:0.4f}  train acc = {train_acc:0.2f}  '\n",
    "            #      f'val loss = {val_loss:0.4f}  val acc = {val_acc:0.2f}')\n",
    "            \n",
    "    model.eval()\n",
    "    with torch.set_grad_enabled(False):\n",
    "        train_accuracy = metrics.accuracy_score(train_y, model(train_x) > 0.5)\n",
    "        val_accuracy = metrics.accuracy_score(val_y, model(val_x) > 0.5)\n",
    "\n",
    "    return model, train_accuracy, val_accuracy"
   ]
  },
  {
   "cell_type": "code",
   "execution_count": 55,
   "metadata": {},
   "outputs": [
    {
     "name": "stdout",
     "output_type": "stream",
     "text": [
      "training dnn : hidden_units=2 (no dropout)\n",
      "training dnn : hidden_units=4 (no dropout)\n",
      "training dnn : hidden_units=8 (no dropout)\n",
      "training dnn : hidden_units=16 (no dropout)\n",
      "training dnn : hidden_units=32 (no dropout)\n",
      "training dnn : hidden_units=64 (no dropout)\n",
      "training dnn : hidden_units=128 (no dropout)\n",
      "training dnn : hidden_units=256 (no dropout)\n"
     ]
    }
   ],
   "source": [
    "lr = 1e-4\n",
    "\n",
    "for h in range(1, 9):\n",
    "    hidden_units = 2 ** h\n",
    "    print(f'training dnn : hidden_units={hidden_units} (no dropout)')\n",
    "    model, _, _ = train_dnn(n_hidden_units=hidden_units, dropout=0.0, learning_rate=lr)"
   ]
  },
  {
   "cell_type": "code",
   "execution_count": 56,
   "metadata": {},
   "outputs": [
    {
     "name": "stdout",
     "output_type": "stream",
     "text": [
      "training dnn : hidden_units=16 dropout=0.0\n",
      "training dnn : hidden_units=16 dropout=0.1\n",
      "training dnn : hidden_units=16 dropout=0.2\n",
      "training dnn : hidden_units=16 dropout=0.3\n",
      "training dnn : hidden_units=16 dropout=0.4\n",
      "training dnn : hidden_units=16 dropout=0.5\n",
      "training dnn : hidden_units=16 dropout=0.6\n",
      "training dnn : hidden_units=16 dropout=0.7\n",
      "training dnn : hidden_units=16 dropout=0.8\n",
      "training dnn : hidden_units=16 dropout=0.9\n",
      "training dnn : hidden_units=16 dropout=1.0\n",
      "training dnn : hidden_units=64 dropout=0.0\n",
      "training dnn : hidden_units=64 dropout=0.1\n",
      "training dnn : hidden_units=64 dropout=0.2\n",
      "training dnn : hidden_units=64 dropout=0.3\n",
      "training dnn : hidden_units=64 dropout=0.4\n",
      "training dnn : hidden_units=64 dropout=0.5\n",
      "training dnn : hidden_units=64 dropout=0.6\n",
      "training dnn : hidden_units=64 dropout=0.7\n",
      "training dnn : hidden_units=64 dropout=0.8\n",
      "training dnn : hidden_units=64 dropout=0.9\n",
      "training dnn : hidden_units=64 dropout=1.0\n"
     ]
    }
   ],
   "source": [
    "import numpy as np\n",
    "\n",
    "lr = 1e-4\n",
    "\n",
    "for hidden_units in [16, 64]:\n",
    "    for dropout in np.arange(0.0, 1.1, 0.1):\n",
    "        print(f'training dnn : hidden_units={hidden_units} dropout={dropout:0.1f}')\n",
    "        model, _, _ = train_dnn(n_hidden_units=hidden_units, dropout=dropout, learning_rate=lr)"
   ]
  },
  {
   "cell_type": "code",
   "execution_count": 57,
   "metadata": {},
   "outputs": [
    {
     "name": "stdout",
     "output_type": "stream",
     "text": [
      "training dnn : hidden_units=32 hidden_layers=1 dropout=0.1\n",
      "training dnn : hidden_units=32 hidden_layers=2 dropout=0.1\n",
      "training dnn : hidden_units=32 hidden_layers=3 dropout=0.1\n",
      "training dnn : hidden_units=32 hidden_layers=4 dropout=0.1\n"
     ]
    }
   ],
   "source": [
    "lr = 1e-4\n",
    "hidden_units = 32\n",
    "dropout=0.1\n",
    "\n",
    "for hidden_layers in [1, 2, 3, 4]:\n",
    "    print(f'training dnn : hidden_units={hidden_units} hidden_layers={hidden_layers} '\n",
    "          f'dropout={dropout:0.1f}')\n",
    "    model, _, _ = train_dnn(n_hidden_units=hidden_units, n_hidden_layers=hidden_layers,\n",
    "                            dropout=dropout, learning_rate=lr)"
   ]
  },
  {
   "cell_type": "markdown",
   "metadata": {},
   "source": [
    "#### Submission"
   ]
  },
  {
   "cell_type": "code",
   "execution_count": 58,
   "metadata": {},
   "outputs": [
    {
     "data": {
      "text/plain": [
       "(0.8426966292134831, 0.8100558659217877)"
      ]
     },
     "execution_count": 58,
     "metadata": {},
     "output_type": "execute_result"
    }
   ],
   "source": [
    "model, train_accuracy, val_accuracy = train_dnn(n_hidden_units=16, n_hidden_layers=2,\n",
    "                                                dropout=0.1, learning_rate=1e-4,\n",
    "                                                epochs=5_000)\n",
    "train_accuracy, val_accuracy"
   ]
  },
  {
   "cell_type": "code",
   "execution_count": 59,
   "metadata": {},
   "outputs": [
    {
     "data": {
      "text/plain": [
       "(torch.Size([418, 23]), torch.float32)"
      ]
     },
     "execution_count": 59,
     "metadata": {},
     "output_type": "execute_result"
    }
   ],
   "source": [
    "test_x = tensor(df_test_input[x_cols].values, dtype=torch.float32)\n",
    "\n",
    "test_x.shape, test_x.dtype"
   ]
  },
  {
   "cell_type": "code",
   "execution_count": 60,
   "metadata": {},
   "outputs": [],
   "source": [
    "with torch.set_grad_enabled(False):\n",
    "    model.eval()\n",
    "    y_hat = model(test_x)\n",
    "    dnn_test_predictions = (y_hat.squeeze(1) > 0.5).to(torch.int)\n",
    "\n",
    "df_submission = pd.DataFrame({\n",
    "    'PassengerId': df_test['PassengerId'],\n",
    "    'Survived': dnn_test_predictions,\n",
    "})\n",
    "\n",
    "df_submission.to_csv('./output/submission-dnn.csv', index=False)"
   ]
  },
  {
   "cell_type": "markdown",
   "metadata": {},
   "source": [
    "### Emsemble"
   ]
  },
  {
   "cell_type": "code",
   "execution_count": 61,
   "metadata": {},
   "outputs": [],
   "source": [
    "avg_preds = (dt_test_predictions + rf_test_predictions + dnn_test_predictions.numpy()) / 3\n",
    "emsemble_preds = (avg_preds > 0.5).astype('int')\n",
    "\n",
    "df_submission = pd.DataFrame({\n",
    "    'PassengerId': df_test['PassengerId'],\n",
    "    'Survived': emsemble_preds,\n",
    "})\n",
    "\n",
    "df_submission.to_csv('./output/submission-emsemble.csv', index=False)"
   ]
  },
  {
   "cell_type": "markdown",
   "metadata": {},
   "source": [
    "## Conclusion\n",
    "\n",
    "Best score was `0.77751` from the `DecisionTreeClassifier` and this consistently scored best highest. It improved as I cleaned the data. Possibly with more data cleaning and analysis could bump it a little more, but I think I've done enough with this one for now."
   ]
  },
  {
   "cell_type": "code",
   "execution_count": null,
   "metadata": {},
   "outputs": [],
   "source": []
  }
 ],
 "metadata": {
  "kernelspec": {
   "display_name": "Python 3",
   "language": "python",
   "name": "python3"
  },
  "language_info": {
   "codemirror_mode": {
    "name": "ipython",
    "version": 3
   },
   "file_extension": ".py",
   "mimetype": "text/x-python",
   "name": "python",
   "nbconvert_exporter": "python",
   "pygments_lexer": "ipython3",
   "version": "3.8.5"
  }
 },
 "nbformat": 4,
 "nbformat_minor": 4
}
